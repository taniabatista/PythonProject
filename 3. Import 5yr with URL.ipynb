{
 "cells": [
  {
   "cell_type": "code",
   "execution_count": 4,
   "metadata": {},
   "outputs": [
    {
     "name": "stdout",
     "output_type": "stream",
     "text": [
      "2.4.8\n"
     ]
    }
   ],
   "source": [
    "#---------------- IMPORT MODULES --------------------\n",
    "\n",
    "import os\n",
    "#from tqdm import tqdm\n",
    "import numpy as np\n",
    "import pandas as pd\n",
    "from numpy.random import randn\n",
    "from scipy import stats\n",
    "import matplotlib as mpl\n",
    "import matplotlib.pyplot as plt\n",
    "import seaborn as sns\n",
    "from pandas.tools.plotting import radviz\n",
    "\n",
    "import csv\n",
    "import requests\n",
    "import openpyxl\n",
    "from openpyxl import Workbook\n",
    "print (openpyxl.__version__)"
   ]
  },
  {
   "cell_type": "code",
   "execution_count": 5,
   "metadata": {
    "collapsed": true
   },
   "outputs": [],
   "source": [
    "# ------ ALL_STOCKS_5yrs.CSV FILE --------------\n",
    "# ORIGINAL FILE:   www.kaggle.com/camnugent/sandp500/downloads/all_stocks_5yr.csv\n",
    "# TEST FILE:       https://raw.githubusercontent.com/taniabatista/PythonProject/master/all_stocks_5yr_shortened.csv\n",
    "# RAW ONEDRIVE FILE:   https://universidaddealcala-my.sharepoint.com/:x:/g/personal/tania_batista_edu_uah_es/EXNdI6Eauj9OoyuWv9G6zGUBAHKjwhu-_H9RVNk4qUnjsw\n",
    "\n",
    "# ------ CONSTITUENTS_FINANCIALS.CSV FILE --------------\n",
    "# NEW FILE WITH 23 EXTRA ROWS: https://raw.githubusercontent.com/taniabatista/PythonProject/master/constituents-financials.csv# DOWNLOAD FILE: https://github.com/datasets/s-and-p-500-companies/blob/master/data/constituents-financials.csv\n",
    "# RAW GITHUB LINK: https://raw.githubusercontent.com/datasets/s-and-p-500-companies/master/data/constituents-financials.csv\n",
    "# NEW FILE WITH 23 EXTRA ROWS: https://raw.githubusercontent.com/taniabatista/PythonProject/master/constituents-financials.csv"
   ]
  },
  {
   "cell_type": "code",
   "execution_count": null,
   "metadata": {},
   "outputs": [],
   "source": [
    "#---------- DOWNLOAD  FROM ONEDRIVE  -------\n",
    "all_stocks_url = \"https://universidaddealcala-my.sharepoint.com/:x:/g/personal/tania_batista_edu_uah_es/EXNdI6Eauj9OoyuWv9G6zGUBAHKjwhu-_H9RVNk4qUnjsw\"\n",
    "#TEST FILE WORKS: https://raw.githubusercontent.com/taniabatista/PythonProject/master/all_stocks_5yr_shortened.csv'\n",
    "\n",
    "xl_file = openpyxl.Workbook()\n",
    "xl_tab = xl_file.create_sheet(index=0, title='Content')\n",
    "with requests.Session() as session_object:\n",
    "    download = session_object.get(all_stocks_url)\n",
    "    decoded_content = download.content.decode('utf-8')\n",
    "    url_object = csv.reader(decoded_content.splitlines(), delimiter=',')\n",
    "    print (\"File: \", url_object, \"\\n\\n\")\n",
    "    print (\"========= Importing the following CSV content from the URL =========== \", \"\\n\\n\")\n",
    "    print (\"HEADER INDEX ------------------- ( ROW, COLUMN )\", \"\\n\\n\")    \n",
    "    rw=0\n",
    "    for obj in url_object:\n",
    "    \trw+=1\n",
    "    \tkl=1\n",
    "    \tfor print_row in obj:\n",
    "    \t\tprint (print_row,' ------------------- ','(',rw,',',kl,')')\n",
    "    \t\txl_tab.cell(row=rw, column=kl).value = print_row\n",
    "    \t\tkl+=1\n",
    "xl_file.save('all_stocks_5yrs_new.csv')\n",
    "print (\"CSV from URL Download Complete\")"
   ]
  },
  {
   "cell_type": "code",
   "execution_count": null,
   "metadata": {
    "collapsed": true
   },
   "outputs": [],
   "source": [
    "#------------------------- READ THE PATH INTO THE NOTEBOOK ------------------------\n",
    "pwd = os.getcwd()\n",
    "path_5years= pwd+'\\\\'+'all_stocks_5yrs_new.csv'\n",
    "read_5years= pd.ExcelFile(path_5years) #, encoding='utf-8')\n",
    "all_stocks_5y_dataframe = read_5years.parse('Content')"
   ]
  },
  {
   "cell_type": "code",
   "execution_count": null,
   "metadata": {
    "collapsed": true
   },
   "outputs": [],
   "source": [
    "#----------------- TEST IT ---------------\n",
    "all_stocks_5y_dataframe"
   ]
  },
  {
   "cell_type": "code",
   "execution_count": null,
   "metadata": {},
   "outputs": [],
   "source": []
  },
  {
   "cell_type": "code",
   "execution_count": null,
   "metadata": {
    "collapsed": true
   },
   "outputs": [],
   "source": []
  },
  {
   "cell_type": "code",
   "execution_count": null,
   "metadata": {
    "collapsed": true
   },
   "outputs": [],
   "source": []
  },
  {
   "cell_type": "code",
   "execution_count": null,
   "metadata": {
    "collapsed": true
   },
   "outputs": [],
   "source": []
  },
  {
   "cell_type": "code",
   "execution_count": null,
   "metadata": {
    "collapsed": true
   },
   "outputs": [],
   "source": []
  }
 ],
 "metadata": {
  "kernelspec": {
   "display_name": "Python 3",
   "language": "python",
   "name": "python3"
  },
  "language_info": {
   "codemirror_mode": {
    "name": "ipython",
    "version": 3
   },
   "file_extension": ".py",
   "mimetype": "text/x-python",
   "name": "python",
   "nbconvert_exporter": "python",
   "pygments_lexer": "ipython3",
   "version": "3.6.4"
  }
 },
 "nbformat": 4,
 "nbformat_minor": 2
}
