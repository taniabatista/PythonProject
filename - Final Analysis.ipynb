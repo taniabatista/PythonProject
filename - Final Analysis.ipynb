{
 "cells": [
  {
   "cell_type": "markdown",
   "metadata": {},
   "source": [
    "# Práctica Python\n",
    "## Alumnos: _Tania Batista, Fernando de la Fuente, Lourdes Ruiz_\n",
    "## Tema: Análisis del S&P 500\n",
    "### Profesor: _Miguel Angel Sicilia_"
   ]
  },
  {
   "cell_type": "markdown",
   "metadata": {},
   "source": [
    "Hemos elegido para la práctica una tabla de datos que contiene las cotizaciones de 503 valores que componen el índice de bolsa americana S&P 500 de 5 años, desde el 13 de Agosto de 2012 hasta el 11 de Agosto de 2017.\n",
    "Los datos están extraídos de Kaggle, en el siguiente enlace:\n",
    "\n",
    "[Kaggle S&P 500](https://www.kaggle.com/camnugent/sandp500/)\n",
    "\n",
    "(Deberá de descargarse desde la pestaña __'Data'__ de Kaggle el fichero __'all_stocks_5yr.csv'__, y situarlo en el directorio desde donde hayamos abierto este notebook.)\n",
    "\n",
    "A partir de la información de este fichero, sin tener los datos del índice, sino los de los valores que lo componen, haremos algunos estudios, así como la composición de un índice sintético.\n",
    "Deicidimos componer un sintético debido a que:\n",
    "* El índice real varía diariamente el peso de cada uno de los valores que lo componen, y el acceso a esta información que es necesaria para componer el índice real es de pago. \n",
    "* Periodicamente se reune un comité que decide qué valores entran y salen del índice, y a lo largo de los 5 años de los que tenemos datos ha habido varios valores que han entrado y otros que han salido. Nuestra base de datos contiene información de los 503 valores que componían el índice en fecha 14 de Agosto de 2017, y sobre esta información es sobre la que trabajaremos.\n",
    "\n",
    "Por tanto, debido a estas limitaciones no es posible recomponer el índice real y comprobar los datos obtenidos con los de cualquier otra fuente, y en consecuencia fabricaremos uno sintético asumiendo que en el periodo no ha variado la composición, y todos los valores tienen el mismo peso."
   ]
  },
  {
   "cell_type": "markdown",
   "metadata": {},
   "source": [
    "Los objetivos del ejercicio sobre estos datos son:\n",
    "\n",
    "**1.** Practicar con series temporales, su potencial para trabajar rangos de valores basados en índices y las agregaciones groupby.\n",
    "\n",
    "**2.** Construcción del índice SP a partir de los valores individuales, no disponible en el fichero de datos.\n",
    "\n",
    "**3.** Identificar los 10 valores con mayor volatilidad en el último año y estudiar si existe correlación en su comportamiento de variación. El análisis es extensible a los Top N valores que queramos.\n",
    "\n",
    "**4.** Testar si Ho: El índice NO correlaciona altamente con los valores con mayor volumen que lo componen.\n",
    "\n",
    "\n",
    "Comenzamos por tanto la práctica.\n",
    "\n",
    "Lo primero sería importar las librerías básicas, cargar los datos, y volcarlos a un data frame."
   ]
  },
  {
   "cell_type": "code",
   "execution_count": 9,
   "metadata": {
    "collapsed": true,
    "scrolled": true
   },
   "outputs": [],
   "source": [
    "# PRUEBA PARA ABRIR EL FICHERO DESDE LA CARPETA DESCARGAS, ESTA COMPRIMIDO AL DESCARGARLO. --> FUNCIONA\n",
    "import pandas as pd\n",
    "import numpy as np\n",
    "path = 'all_stocks_5yr.csv'\n",
    "sp500 = pd.read_csv(path, delimiter=',',decimal='.', header=0, parse_dates=True)\n",
    "sp = pd.DataFrame(sp500)\n",
    "sp['Date'] = pd.to_datetime(sp['Date'], format = '%Y-%m-%d') # --> Convertimos Date a formato fecha"
   ]
  },
  {
   "cell_type": "code",
   "execution_count": 10,
   "metadata": {},
   "outputs": [
    {
     "name": "stdout",
     "output_type": "stream",
     "text": [
      "        Date   Open   High    Low  Close     Volume Name\n",
      "0 2012-08-13  92.29  92.59  91.74  92.40  2075391.0  MMM\n",
      "1 2012-08-14  92.36  92.50  92.01  92.30  1843476.0  MMM\n",
      "2 2012-08-15  92.00  92.74  91.94  92.54  1983395.0  MMM\n",
      "3 2012-08-16  92.75  93.87  92.21  93.74  3395145.0  MMM\n",
      "4 2012-08-17  93.93  94.30  93.59  94.24  3069513.0  MMM\n",
      "             Date   Open   High    Low  Close     Volume Name\n",
      "606796 2017-08-07  62.12  62.34  61.25  61.83  4208287.0  ZTS\n",
      "606797 2017-08-08  60.49  61.00  59.50  60.00  4663668.0  ZTS\n",
      "606798 2017-08-09  59.95  60.87  59.76  60.81  4017297.0  ZTS\n",
      "606799 2017-08-10  60.87  61.37  59.71  59.74  2690725.0  ZTS\n",
      "606800 2017-08-11  60.05  60.22  59.64  59.73  2285863.0  ZTS\n"
     ]
    }
   ],
   "source": [
    "pd.set_option('display.html.table_schema', True)\n",
    "print(sp.head(5))\n",
    "print(sp.tail(5))"
   ]
  },
  {
   "cell_type": "markdown",
   "metadata": {},
   "source": [
    "Comprobamos la cantidad de información que tiene la tabla, en filas y columnas:"
   ]
  },
  {
   "cell_type": "code",
   "execution_count": 11,
   "metadata": {},
   "outputs": [
    {
     "name": "stdout",
     "output_type": "stream",
     "text": [
      "(606801, 7)\n",
      "El número de dimensiones del data frame es de 2\n",
      "El número de filas del data frame es de 606801\n",
      "El número de columnas del data frame es de 7\n",
      "Index(['Date', 'Open', 'High', 'Low', 'Close', 'Volume', 'Name'], dtype='object')\n",
      "El tipo de este data frame es:  <class 'pandas.core.frame.DataFrame'>\n",
      "----------------------------------------------------------\n",
      "           Open      High       Low     Close       Volume\n",
      "count  606417.0  606593.0  606574.0  606801.0     606395.0\n",
      "mean       80.0      80.0      79.0      80.0    4500925.0\n",
      "std        93.0      94.0      93.0      93.0    9336171.0\n",
      "min         2.0       2.0       2.0       2.0          0.0\n",
      "25%        38.0      38.0      38.0      38.0    1077091.0\n",
      "50%        59.0      60.0      59.0      59.0    2131913.0\n",
      "75%        89.0      90.0      89.0      89.0    4442768.0\n",
      "max      2044.0    2068.0    2035.0    2049.0  618237630.0\n"
     ]
    }
   ],
   "source": [
    "print(sp.shape)\n",
    "print(\"El número de dimensiones del data frame es de\",sp.ndim)\n",
    "print(\"El número de filas del data frame es de\",len(sp.index))\n",
    "print(\"El número de columnas del data frame es de\",len(sp.columns))\n",
    "print(sp.columns)\n",
    "print(\"El tipo de este data frame es: \", type(sp500))\n",
    "print(\"----------------------------------------------------------\")\n",
    "print(round(sp.describe()))"
   ]
  },
  {
   "cell_type": "markdown",
   "metadata": {},
   "source": [
    "Según lo que vemos en la función _describe/count_ el número de datos qye hay en cada columna es distinto, lo que significa que tenemos NaN en el dataframe. \n",
    "\n",
    "Es necesario identificarlos, y sustituirlos para limpiar la tabla antes de trabajar con ella:"
   ]
  },
  {
   "cell_type": "code",
   "execution_count": 12,
   "metadata": {},
   "outputs": [
    {
     "name": "stdout",
     "output_type": "stream",
     "text": [
      "Date      False\n",
      "Open       True\n",
      "High       True\n",
      "Low        True\n",
      "Close     False\n",
      "Volume     True\n",
      "Name      False\n",
      "dtype: bool\n",
      "El número de campos vacíos en la columna Date es 0\n",
      "El número de campos vacíos en la columna Open es 384\n",
      "El número de campos vacíos en la columna High es 208\n",
      "El número de campos vacíos en la columna Low es 227\n",
      "El número de campos vacíos en la columna Close es 0\n",
      "El número de campos vacíos en la columna Volume es 406\n",
      "El número de campos vacíos en la columna Name es 0\n"
     ]
    }
   ],
   "source": [
    "print(sp.isnull().any())\n",
    "print(\"El número de campos vacíos en la columna Date es\",sp.Date.isnull().sum())\n",
    "print(\"El número de campos vacíos en la columna Open es\",sp.Open.isnull().sum())\n",
    "print(\"El número de campos vacíos en la columna High es\",sp.High.isnull().sum())\n",
    "print(\"El número de campos vacíos en la columna Low es\",sp.Low.isnull().sum())\n",
    "print(\"El número de campos vacíos en la columna Close es\",sp.Close.isnull().sum())\n",
    "print(\"El número de campos vacíos en la columna Volume es\",sp.Volume.isnull().sum())\n",
    "print(\"El número de campos vacíos en la columna Name es\",sp.Name.isnull().sum())"
   ]
  },
  {
   "cell_type": "markdown",
   "metadata": {},
   "source": [
    "**Las variables Open, High, Low y Volume contienen missing values. Procederemos a su limpieza mediante imputación basada en medias.**\n",
    "\n",
    "Como vemos, los campos vacíos se encuentran en algunas columnas, no todas. \n",
    "Antes de decidir qué hacer con ellos, hagamos un análisis de qué información es la que contiene cada columna:\n",
    "* _Date:_ Contiene la fecha de la información de cada fila.\n",
    "* _Open:_ Es el primer precio al que abrió el valor ese día.\n",
    "* _High:_ El precio más alto negociado en el día.\n",
    "* _Low:_ El precio más bajo negociado en el día.\n",
    "* _Close:_ Indica a qué precio cerró el valor ese día. Este podemos decir que es el dato más importante de la fila.\n",
    "* _Volume:_ Indica el número de acciones negociadas en el día. No todas cambian de manos al mismo precio.\n",
    "* _Name:_ Indica el nombre del valor. Es una abreviatura utilizada para identificar cada valor. Por ejemplo: Amazon sería AMZN."
   ]
  },
  {
   "cell_type": "code",
   "execution_count": 13,
   "metadata": {},
   "outputs": [
    {
     "name": "stdout",
     "output_type": "stream",
     "text": [
      "La columna Name contiene 503 valores distintos.\n",
      "Son las compañías que formaban el índice S&P en fecha 11 de Agosto de 2017.\n"
     ]
    }
   ],
   "source": [
    "print(\"La columna Name contiene\",len(sp.Name.unique()),\"valores distintos.\")\n",
    "\n",
    "print(\"Son las compañías que formaban el índice S&P en fecha 11 de Agosto de 2017.\")"
   ]
  },
  {
   "cell_type": "markdown",
   "metadata": {},
   "source": [
    "__LIMPIEZA DE DATOS__\n",
    "\n",
    "Vamos a sustituir los NaN que aparezcan en las columnas High y Low por un valor, que será:\n",
    "* Para la columna _High_ el resultado de incrementar el precio de cierre de ese día por la diferencia (en %) entre el High y el Close --> High = Close * ( 1 + (% diferencia media entre High y Close de todo el periodo)\n",
    "* Para la columna _Low_ el resultado de disminuir el precio de cierre de ese día por la diferencia (en %) entre el Low y el Close --> Low = Close * ( 1 - (% diferencia media entre el Close y el Low de todo el periodo)"
   ]
  },
  {
   "cell_type": "markdown",
   "metadata": {},
   "source": [
    "Sustituiremos primero los datos de la columna _High_"
   ]
  },
  {
   "cell_type": "code",
   "execution_count": 14,
   "metadata": {},
   "outputs": [
    {
     "name": "stdout",
     "output_type": "stream",
     "text": [
      "El número de campos vacíos en la columna High antes de la sustitución es 208\n",
      "El número de campos vacíos en la columna High después de la sustitución es 0\n"
     ]
    }
   ],
   "source": [
    "#OBTENER PROMEDIO, POR CADA VALOR, DE LA DIFERENCIA EN % ENTRE EL CIERRE Y EL HIGH, y SUSTITUIMOS LOS NAN POR ESTE CALCULO\n",
    "\n",
    "def calculo_reemplazo_high(name):\n",
    "    subset = sp[sp['Name'] == name]\n",
    "    subset_high = subset['High']\n",
    "    subset_close = subset['Close']\n",
    "    media = np.mean( (subset_high - subset_close) / subset_close) # --> Esta es la fórmula que calcula el promedio)\n",
    "    return media\n",
    "\n",
    "# Recorremos los campos que tienen algún NaN en la columna High (son 208), y los sustituimos.\n",
    "\n",
    "print(\"El número de campos vacíos en la columna High antes de la sustitución es\",sp['High'].isnull().sum())\n",
    "\n",
    "for posiciones in sp['High'].index[sp['High'].apply(np.isnan)]: # --> 208 iteraciones, una por cada NaN\n",
    "    sp.loc[posiciones,'High'] = sp['Close'][posiciones] * (1 + calculo_reemplazo_high(sp['Name'][posiciones]))\n",
    "    \n",
    "print(\"El número de campos vacíos en la columna High después de la sustitución es\",sp['High'].isnull().sum())"
   ]
  },
  {
   "cell_type": "markdown",
   "metadata": {},
   "source": [
    "Y ahora sustituiremos los datos de _Low_"
   ]
  },
  {
   "cell_type": "code",
   "execution_count": 16,
   "metadata": {},
   "outputs": [
    {
     "name": "stdout",
     "output_type": "stream",
     "text": [
      "El número de campos vacíos en la columna Low antes de la sustitución es 0\n",
      "El número de campos vacíos en la columna Low después de la sustitución es 0\n"
     ]
    }
   ],
   "source": [
    "#OBTENER PROMEDIO, POR CADA VALOR, DE LA DIFERENCIA EN % ENTRE EL CIERRE Y EL LOW, y SUSTITUIMOS LOS NAN POR ESTE CALCULO\n",
    "\n",
    "def calculo_reemplazo_low(name):\n",
    "    subset = sp[sp['Name'] == name]\n",
    "    subset_low = subset['Low']\n",
    "    subset_close = subset['Close']\n",
    "    media = np.mean( (subset_low - subset_close) / subset_close) # --> Esta es la fórmula que calcula el promedio\n",
    "    return media\n",
    "\n",
    "# Recorremos los campos que tienen algún NaN en la columna Low (son 227), y los sustituimos.\n",
    "\n",
    "print(\"El número de campos vacíos en la columna Low antes de la sustitución es\",sp['Low'].isnull().sum())\n",
    "\n",
    "for posiciones in sp['Low'].index[sp['Low'].apply(np.isnan)]: # --> 227 iteraciones, una por cada NaN\n",
    "    sp.loc[posiciones,'Low'] = sp['Close'][posiciones] * (1 + calculo_reemplazo_low(sp['Name'][posiciones]))\n",
    "    \n",
    "print(\"El número de campos vacíos en la columna Low después de la sustitución es\",sp['Low'].isnull().sum())"
   ]
  },
  {
   "cell_type": "markdown",
   "metadata": {},
   "source": [
    "A continuación vamos a sustituir los NaN que haya en al columna _Open_, por un número aleatorio que esté entre el valor de la columna _High_ y _Low_ de esa sesión."
   ]
  },
  {
   "cell_type": "code",
   "execution_count": 17,
   "metadata": {},
   "outputs": [
    {
     "name": "stdout",
     "output_type": "stream",
     "text": [
      "El número de campos vacíos en la columna Open antes de la sustitución es 384\n",
      "El número de campos vacíos en la columna Open después de la sustitución es 0\n"
     ]
    }
   ],
   "source": [
    "# SUSTITUCION DE NaN EN COLUMNA Open, con un aleatorio que esté en el rango entre el High y el Low\n",
    "\n",
    "print(\"El número de campos vacíos en la columna Open antes de la sustitución es\",sp['Open'].isnull().sum())\n",
    "\n",
    "for posiciones in sp['Open'].index[sp['Open'].apply(np.isnan)]: \n",
    "    sp.loc[posiciones,'Open'] = np.random.uniform (sp['Low'][posiciones], sp['High'][posiciones])\n",
    "\n",
    "print(\"El número de campos vacíos en la columna Open después de la sustitución es\",sp['Open'].isnull().sum())"
   ]
  },
  {
   "cell_type": "markdown",
   "metadata": {},
   "source": [
    "Respecto a la columna _Volume_, para cada valor que tenga NaN (aunque solo es un único valor) calcularemos la media del volumen de títulos que se negocian diariamente, y sustituiremos el NaN por esta media."
   ]
  },
  {
   "cell_type": "code",
   "execution_count": 18,
   "metadata": {},
   "outputs": [
    {
     "name": "stdout",
     "output_type": "stream",
     "text": [
      "El número de campos vacíos en toda la tabla en la columna Volume es 406\n",
      "Hay 1 valores con algún NaN en la columna Volume. Estos valores son:  ['GOOG']\n",
      "El número de campos vacíos en la columna Volume tras la sustitución es 0\n"
     ]
    }
   ],
   "source": [
    "print(\"El número de campos vacíos en toda la tabla en la columna Volume es\",sp[\"Volume\"].isnull().sum())\n",
    "\n",
    "a = sp['Volume'].index[sp['Volume'].apply(np.isnan)]\n",
    "a = np.unique(sp.loc[a[0:-1],'Name'])\n",
    "print(\"Hay\",len(a),\"valores con algún NaN en la columna Volume. Estos valores son: \",a)\n",
    "\n",
    "for valores in a:\n",
    "    sp[sp['Name']==valores] = sp[sp['Name']== valores].fillna(sp[sp['Name']== valores].mean())\n",
    "\n",
    "print(\"El número de campos vacíos en la columna Volume tras la sustitución es\",sp[\"Volume\"].isnull().sum())"
   ]
  },
  {
   "cell_type": "markdown",
   "metadata": {},
   "source": [
    "Una vez hechos los reemplazos de los datos nulos en las columnas, comprobamos que no quede ninguno:"
   ]
  },
  {
   "cell_type": "code",
   "execution_count": 19,
   "metadata": {},
   "outputs": [
    {
     "data": {
      "application/vnd.dataresource+json": {
       "data": [
        {
         "index": "Date",
         "values": 0
        },
        {
         "index": "Open",
         "values": 0
        },
        {
         "index": "High",
         "values": 0
        },
        {
         "index": "Low",
         "values": 0
        },
        {
         "index": "Close",
         "values": 0
        },
        {
         "index": "Volume",
         "values": 0
        },
        {
         "index": "Name",
         "values": 0
        }
       ],
       "schema": {
        "fields": [
         {
          "name": "index",
          "type": "string"
         },
         {
          "name": "values",
          "type": "integer"
         }
        ],
        "pandas_version": "0.20.0",
        "primaryKey": [
         "index"
        ]
       }
      },
      "text/plain": [
       "Date      0\n",
       "Open      0\n",
       "High      0\n",
       "Low       0\n",
       "Close     0\n",
       "Volume    0\n",
       "Name      0\n",
       "dtype: int64"
      ]
     },
     "execution_count": 19,
     "metadata": {},
     "output_type": "execute_result"
    }
   ],
   "source": [
    "sp.isnull().sum() #comprobación de que no queda ningún NAN."
   ]
  },
  {
   "cell_type": "markdown",
   "metadata": {},
   "source": [
    "A partir de la información que tenemos ahora, datos diarios de 503 valores que componen el índice S&P 500, vamos a componer un índice nosotros, similar al original, para poder centrar parte de nuestro análisis en él.\n",
    "\n",
    "### CONSIDERACIONES PRELIMINARES SOBRE EL ÍNDICE S&P 500\n",
    "El índice S&P 500 es el índice más representativo de la evolución del mercado norteamericano, y recoge la evolución de las 500 mayores empresas cotizadas en los distintos mercados de renta variable del país. Hoy en día está formado por 503 valores, dado que algunos de ellos tienen distintas clases de acciones con diferentes derechos cotizando.\n",
    "Un comité es el encargado de la selección de valores que lo componen, siguiendo 8 criterios, que son: capitalización bursatil, liquidez, domicilio, capital flotante, clasificación del sector, viabilidad financiera, periodo de tiempo durante el cual ha cotizado en bolsa y ser negociada en la bolsa de valores.\n",
    "\n",
    "El comité se reune periódicamente y decide los valores que entran y salen del índice. Respecto a la ponderación de cada valor dentro del índice, esta depende de la capitalización de mercado de cada valor (precio diario X número de acciones en circulación). \n",
    "\n",
    "No disponemos en el dataframe del número de acciones que tiene en circulación cada compañía que forma el índice, y por tanto, **no nos es posible construir una reproducción fiel al original del índice S&P 500**. Aunque tuviésemos esta información, durante los 5 años de datos que tenemos han entrado y salido valores del índice, y no disponemos de los datos diarios de los que han salido. \n",
    "\n",
    "No obstante, podemos construir un índice sintético alterando las ponderaciones de los valores, utilizando el método *'EQUALLY WEIGHTED'*, en el que todos los valores tienen el mismo peso dentro del índice."
   ]
  },
  {
   "cell_type": "markdown",
   "metadata": {},
   "source": [
    "### CONSTRUCCIÓN DEL ÍNDICE\n",
    "Para crear el indice necesitamos 2 cosas:\n",
    "* __Un valor inicial__ --> Tomaremos como referencia el valor del S&P el 13 de Agosto de 2012, la fecha a partir de la cual tenemos datos. Ese día el S&P 500 cerró a 1.404,11 y será el valor a partir del cual partamos en la columna _'Close'_. Para las demás columnas el valor que fijamos ese día es: _'Open'_ = 1405,87 , _'High'_ = 1405,87 , _'Low'_ = 1397,32 .\n",
    "* __Variaciones diarias del índice__ --> A partir de las variaciones diarias de los 504 valores haremos que el índice se mueva diariamente.\n",
    "\n",
    "Lo primero que tenemos que hacer entonces, es crear una fila para cada día con información del índice, que estará en varias columnas:\n",
    "* __Date:__ fecha en la que se recoge la información\n",
    "* __Open:__ precio en el que abre el índice. El precio que fabricamos carece de sentido real, ya que los precios a los que abre cada valor no tienen por qué coincidir en el tiempo (unos pueden cruzar operaciones nada más abrir el mercado, pero otros pueden hacerlo más tarde).\n",
    "* __High:__ precio más alto alcanzado por el índice. El precio que fabricamos carece también de sentido real, ya que los High de cada valor se producen en diferentes momentos durante la sesión. Aún así es interesante calcularlo para poder graficar las fluctuaciones diarias del índice.\n",
    "* __Low:__ precio más bajo alcanzado por el índice. El precio que fabricamos carece también de sentido real, ya que los Low de cada valor se producen en diferentes momentos durante la sesión. Aún así es interesante calcularlo para poder graficar las fluctuaciones diarias del índice.\n",
    "* __Close:__ precio al que cierra el índice. Es el dato más importante, y se construye a partir de los cierres de los 503 valores."
   ]
  },
  {
   "cell_type": "markdown",
   "metadata": {},
   "source": [
    "Creamos un nuevo dataframe que va a contener la información del índice, el cual vamos a construir con la información diaria de cada uno de los valores. Tendrá tantas filas como días de cotización tenemos, y las mismas columnas. En la primera fecha asignaremos los valores reales que el índice tuvo ese día."
   ]
  },
  {
   "cell_type": "code",
   "execution_count": 20,
   "metadata": {},
   "outputs": [
    {
     "name": "stdout",
     "output_type": "stream",
     "text": [
      "               Open     High      Low    Close Volume   Name\n",
      "2012-08-13  1405.87  1405.87  1397.32  1404.11    NaN  SP500\n",
      "2012-08-14      NaN      NaN      NaN      NaN    NaN  SP500\n",
      "2012-08-15      NaN      NaN      NaN      NaN    NaN  SP500\n",
      "2012-08-16      NaN      NaN      NaN      NaN    NaN  SP500\n",
      "2012-08-17      NaN      NaN      NaN      NaN    NaN  SP500\n"
     ]
    }
   ],
   "source": [
    "indice = pd.DataFrame(data=None, columns = sp.columns[1:7], index=pd.unique(sp.Date))\n",
    "indice.Name = 'SP500'\n",
    "indice.iloc[0]['Open', 'High', 'Low', 'Close'] = (1405.87, 1405.87, 1397.32, 1404.11)\n",
    "print(indice.head(5))"
   ]
  },
  {
   "cell_type": "markdown",
   "metadata": {},
   "source": [
    "Para construir los datos del índice necesitaremos saber cuanto varían en % respecto a la sesión anterior las columnas _'Open'_, _'High'_, _'Low'_ y _'Close'_. Realizamos los cálculos oportunos en otra variable que llamaremos _factchange_. Que recogerá las variaciones diarias en % de cada una de las 4 columnas. Cada dato es el resultado de hacer una media de las 503  variaciones diarias en %.\n",
    "\n",
    "Posteriormente utilizaremos esta variable para calcular los precios del índice diarios, a partir del precio inicial."
   ]
  },
  {
   "cell_type": "code",
   "execution_count": 21,
   "metadata": {},
   "outputs": [
    {
     "name": "stdout",
     "output_type": "stream",
     "text": [
      "                Open      High       Low     Close\n",
      "Date                                              \n",
      "2012-08-13       NaN       NaN       NaN       NaN\n",
      "2012-08-14  1.004464  1.003809  1.002957  0.999472\n",
      "2012-08-15  0.993724  0.998106  0.999171  1.003400\n",
      "2012-08-16  1.005181  1.008173  1.003779  1.008286\n",
      "2012-08-17  1.010009  1.003581  1.008183  1.002912\n"
     ]
    }
   ],
   "source": [
    "factchange = sp.groupby(['Date', 'Name'])['Open', 'High', 'Low', 'Close'].sum()\n",
    "\n",
    "factchange = factchange.unstack(level=1).pct_change()+1 # --> Variaciones respecto al día anterior en base 1\n",
    "factchange = factchange.transpose() # --> Preparamos la estructura para el cálculo de las medias por valor\n",
    "factchange = factchange.mean(level=0).transpose() # --> Media diaria por valor\n",
    "print(factchange.head(5))\n",
    "# La primera fila es nula porque la función pct_change muestra la variación con respecto a la fila anterior."
   ]
  },
  {
   "cell_type": "code",
   "execution_count": 22,
   "metadata": {},
   "outputs": [
    {
     "name": "stdout",
     "output_type": "stream",
     "text": [
      "                Open                                                   \\\n",
      "Name               A AAL       AAP      AAPL ABBV       ABC       ABT   \n",
      "Date                                                                    \n",
      "2012-08-13       NaN NaN       NaN       NaN  NaN       NaN       NaN   \n",
      "2012-08-14  0.008691 NaN  0.010801  0.013586  NaN  0.002591  0.004555   \n",
      "2012-08-15 -0.007139 NaN  0.021372 -0.000886  NaN -0.008529  0.001209   \n",
      "2012-08-16 -0.070171 NaN  0.008907 -0.000222  NaN -0.022158  0.001208   \n",
      "2012-08-17 -0.007200 NaN  0.018918  0.013974  NaN -0.007465  0.004222   \n",
      "\n",
      "                                         ... Close                      \\\n",
      "Name             ACN      ADBE       ADI ...    XL      XLNX       XOM   \n",
      "Date                                     ...                             \n",
      "2012-08-13       NaN       NaN       NaN ...   NaN       NaN       NaN   \n",
      "2012-08-14  0.004570  0.000924  0.005948 ...   NaN -0.008618  0.000681   \n",
      "2012-08-15 -0.008448 -0.008305 -0.008130 ...   NaN  0.006894 -0.002268   \n",
      "2012-08-16  0.000819  0.020161  0.004223 ...   NaN  0.015481  0.007614   \n",
      "2012-08-17  0.009005  0.025540  0.010883 ...   NaN -0.004398 -0.003045   \n",
      "\n",
      "                                                                            \n",
      "Name            XRAY       XRX       XYL       YUM       ZBH      ZION ZTS  \n",
      "Date                                                                        \n",
      "2012-08-13       NaN       NaN       NaN       NaN       NaN       NaN NaN  \n",
      "2012-08-14 -0.001039 -0.001391 -0.018360 -0.010751  0.001629  0.004271 NaN  \n",
      "2012-08-15  0.015077  0.008357  0.009559 -0.005283  0.006018  0.018607 NaN  \n",
      "2012-08-16  0.000512  0.013812  0.026760  0.003490  0.000162  0.003653 NaN  \n",
      "2012-08-17 -0.004863  0.009537  0.008019 -0.000454  0.001132  0.024441 NaN  \n",
      "\n",
      "[5 rows x 2012 columns]\n"
     ]
    }
   ],
   "source": [
    "change = sp.groupby(['Date', 'Name'])['Open', 'High', 'Low', 'Close'].sum()\n",
    "\n",
    "change = change.unstack(level=1).pct_change() # --> Variaciones respecto al día anterior en base 1\n",
    "\n",
    "print(change.head(5))\n",
    "# La primera fila es nula porque la función pct_change muestra la variación con respecto a la fila anterior."
   ]
  },
  {
   "cell_type": "markdown",
   "metadata": {},
   "source": [
    "Con los precios iniciales de cada columna, y las variaciones diarias del índice (las dos celdas anteriores), ya podemos calcular los precios diarios del índice en cada columna. Con estos datos trabajaremos, principalmente con _Close_, el resto no tienen mucho sentido por la metodología propia de construcción sintética del índice. \n",
    "\n",
    "Notese que al final de la tabla los valores de la columna High son menores que Low, lo cual no tiene sentido real. En la realidad los valores de estas columnas vienen determinados por la cotización real del índice, no por las variaciones respecto a dias anteriores como hemos construido el nuestro.\n",
    "\n",
    "Es la mejor aproximación sintética que se puede construir, sin recurrir a información externa adicional."
   ]
  },
  {
   "cell_type": "code",
   "execution_count": 23,
   "metadata": {},
   "outputs": [
    {
     "name": "stdout",
     "output_type": "stream",
     "text": [
      "               Open     High      Low    Close Volume   Name\n",
      "2012-08-13  1405.87  1405.87  1397.32  1404.11    NaN  SP500\n",
      "2012-08-14  1412.15  1411.23  1401.45  1403.37    NaN  SP500\n",
      "2012-08-15  1403.28  1408.55  1400.29  1408.14    NaN  SP500\n",
      "2012-08-16  1410.55  1420.06  1405.58  1419.81    NaN  SP500\n",
      "2012-08-17  1424.67  1425.15  1417.08  1423.94    NaN  SP500\n",
      "               Open     High      Low    Close Volume   Name\n",
      "2017-08-07  2874.46  2776.59  2851.43  2827.41    NaN  SP500\n",
      "2017-08-08  2873.83  2782.23  2847.68  2819.05    NaN  SP500\n",
      "2017-08-09  2858.92  2764.63  2832.77   2814.5    NaN  SP500\n",
      "2017-08-10  2853.48  2750.89  2808.54  2773.09    NaN  SP500\n",
      "2017-08-11  2822.35  2731.79  2798.52   2774.7    NaN  SP500\n"
     ]
    }
   ],
   "source": [
    "indice.loc['2012-08-14':,'Open':'Close'] = indice.loc['2012-08-13','Open':'Close'] *  (\n",
    "    np.cumprod(factchange.loc['2012-08-14':,'Open':'Close']))\n",
    "print(indice.head(5))\n",
    "print(indice.tail(5))"
   ]
  },
  {
   "cell_type": "code",
   "execution_count": 24,
   "metadata": {},
   "outputs": [
    {
     "data": {
      "text/plain": [
       "<matplotlib.legend.Legend at 0x1f78e769f28>"
      ]
     },
     "execution_count": 24,
     "metadata": {},
     "output_type": "execute_result"
    },
    {
     "data": {
      "image/png": "[encoded data removed]",
      "text/plain": [
       "<matplotlib.figure.Figure at 0x1f78e62f6d8>"
      ]
     },
     "metadata": {},
     "output_type": "display_data"
    }
   ],
   "source": [
    "import matplotlib.pyplot as plt\n",
    "%matplotlib inline\n",
    "plt.figure(figsize=(16,8))\n",
    "indice['Close'].plot(grid = True)\n",
    "\n",
    "plt.title ('Evolución diaria de precios (13-Ago-2012 a 11-Ago-2017)')\n",
    "plt.ylabel('Precios')\n",
    "plt.xlabel('Fechas')\n",
    "plt.legend(['Indice S&P500 sintético'], loc = 0)"
   ]
  },
  {
   "cell_type": "markdown",
   "metadata": {},
   "source": [
    "En análisis técnico bursátil, una de las comparativas básicas en un gráfico es ver la información de una cotización junto con una media móvil mensual (22 sesiones bursátiles). A partir de los distintos cruces entre el índice y su media móvil se considera que un mercado es alcista o bajista. Vamos a realizar esta comparativa."
   ]
  },
  {
   "cell_type": "code",
   "execution_count": 25,
   "metadata": {},
   "outputs": [
    {
     "data": {
      "text/plain": [
       "<matplotlib.legend.Legend at 0x1f78e8f0c88>"
      ]
     },
     "execution_count": 25,
     "metadata": {},
     "output_type": "execute_result"
    },
    {
     "data": {
      "image/png": "[encoded data removed]",
      "text/plain": [
       "<matplotlib.figure.Figure at 0x1f78e8689b0>"
      ]
     },
     "metadata": {},
     "output_type": "display_data"
    }
   ],
   "source": [
    "media_M = indice.loc['2012-09-04':,'Close']\n",
    "media_M.plot(figsize=(16, 8), title='SP500',ylim=[1000,3000])\n",
    "plt.legend(loc=0)\n",
    "plt.xticks(size = 'large', rotation = 90)\n",
    "plt.grid()\n",
    "\n",
    "#media móvil\n",
    "media_movilM = media_M.rolling(window=22).mean()[22:] #el primer rolling empieza el día 22 \n",
    "media_movilM.plot(figsize=(16, 8), title='S&P500 vs Media móvil 22 sesiones',ylim=[1000,3000])\n",
    "plt.legend(loc=0)\n",
    "plt.xticks(size = 'large', rotation = 90)\n",
    "plt.grid()\n",
    "\n",
    "plt.ylabel('Precios')\n",
    "plt.xlabel('Fechas')\n",
    "plt.legend(['SP500','Media Móvil'], loc = 0)"
   ]
  },
  {
   "cell_type": "markdown",
   "metadata": {},
   "source": [
    "Con la librería Bokeh vamos a utilizar velas japonesas (utilizadas en análisis técnico bursátil) para ver la evolución del periodo 2 de Enero 2013 a 28 de Marzo de 2013. Hemos elegido un periodo corto para visualizar mejor las velas."
   ]
  },
  {
   "cell_type": "code",
   "execution_count": 26,
   "metadata": {
    "collapsed": true
   },
   "outputs": [],
   "source": [
    "# Dibujo de los candlesticks del índice para un periodo determinado (cuanto más pequeño mejor se ve).\n",
    "\n",
    "from math import pi\n",
    "from bokeh.plotting import figure, show, output_file\n",
    "#inicio = input\n",
    "candle = indice.loc['2013-01-02':'2013-03-28','Open':'Close']\n",
    "candle.loc[:,'Date'] = candle.index\n",
    "candle.loc[:,'Date'] = pd.to_datetime(candle.loc[:,'Date'])\n",
    "\n",
    "inc = candle.loc[:,'Close'] > candle.loc[:,'Open']\n",
    "dec = candle.loc[:,'Open'] > candle.loc[:,'Close']\n",
    "w = 12*60*60*1000 \n",
    "\n",
    "TOOLS = \"pan,wheel_zoom,box_zoom,reset,save\"\n",
    "\n",
    "p = figure(x_axis_type=\"datetime\", tools=TOOLS, plot_width=1000, title = \"Análisis técnico SP500 con velas japonesas\")\n",
    "p.xaxis.major_label_orientation = pi/4\n",
    "p.grid.grid_line_alpha=0.3\n",
    "\n",
    "p.segment(candle.loc[:,'Date'], candle.loc[:,'High'], candle.loc[:,'Date'], candle.loc[:,'Low'], color=\"black\")\n",
    "p.vbar(candle.loc[inc,'Date'], w, candle.loc[inc,'Open'], candle.loc[inc,'Close'], fill_color=\"#98fb98\", line_color=\"black\")\n",
    "p.vbar(candle.loc[dec,'Date'], w, candle.loc[dec,'Open'], candle.loc[dec,'Close'], fill_color=\"#F2583E\", line_color=\"black\")\n",
    "\n",
    "output_file(\"velas_japonesas.html\")\n",
    "\n",
    "show(p)"
   ]
  },
  {
   "cell_type": "markdown",
   "metadata": {},
   "source": [
    "## CONSTRUCCION DE INDICES SECTORIALES\n",
    "\n",
    "Las distintas compañías que integran el S&P 500 pertenecen a un sector concreto. Si agrupamos estas compañías por sectores y construimos un índice sectorial, podemos ver la distinta evolución que han tenido. Para llegar a esto tenemos que seguir varios pasos: \n",
    "* Descargar de Kaggle el listado de las compañías del S&P 500 y el sector al que pertenecen.\n",
    "* Asignar a cada compañía su sector, para lo que añadiremos una nueva columna a nuestro data frame original _'Sector'_.\n",
    "* Construir para cada sector un índice en base 100, con un periodo igual al de nuestro data frame original. Cada índice sectorial variará diariamente lo que fluctúe la media de las variaciones de las compañías que pertenecen a ese sector."
   ]
  },
  {
   "cell_type": "code",
   "execution_count": 33,
   "metadata": {},
   "outputs": [
    {
     "name": "stdout",
     "output_type": "stream",
     "text": [
      "['Consumer Discretionary' 'Consumer Staples' 'Energy' 'Financials'\n",
      " 'Health Care' 'Industrials' 'Information Technology' 'Materials'\n",
      " 'Real Estate' 'Telecommunications Services' 'Utilities']\n"
     ]
    }
   ],
   "source": [
    "# Importación del data frame de Kaggle, y lo recogemos en una variable.\n",
    "constituents_path = 'constituents-financials.csv'\n",
    "# constituents_path = 'https://raw.githubusercontent.com/datasets/s-and-p-500-companies/master/data/constituents.csv'\n",
    "constituents_read = pd.read_csv(constituents_path)\n",
    "\n",
    "#----------- variable cn = constituents with only symbol and sector ----------- \n",
    "cn = pd.DataFrame(constituents_read.loc[:,['Symbol','Sector']])\n",
    "sectors = np.unique(cn['Sector'])\n",
    "print(sectors)"
   ]
  },
  {
   "cell_type": "code",
   "execution_count": 28,
   "metadata": {},
   "outputs": [
    {
     "name": "stdout",
     "output_type": "stream",
     "text": [
      "        Date   Open   High    Low  Close     Volume Name       Sector\n",
      "0 2012-08-13  92.29  92.59  91.74  92.40  2075391.0  MMM  Industrials\n",
      "1 2012-08-14  92.36  92.50  92.01  92.30  1843476.0  MMM  Industrials\n",
      "2 2012-08-15  92.00  92.74  91.94  92.54  1983395.0  MMM  Industrials\n",
      "3 2012-08-16  92.75  93.87  92.21  93.74  3395145.0  MMM  Industrials\n",
      "4 2012-08-17  93.93  94.30  93.59  94.24  3069513.0  MMM  Industrials\n",
      "             Date   Open   High    Low  Close     Volume Name       Sector\n",
      "606796 2017-08-07  62.12  62.34  61.25  61.83  4208287.0  ZTS  Health Care\n",
      "606797 2017-08-08  60.49  61.00  59.50  60.00  4663668.0  ZTS  Health Care\n",
      "606798 2017-08-09  59.95  60.87  59.76  60.81  4017297.0  ZTS  Health Care\n",
      "606799 2017-08-10  60.87  61.37  59.71  59.74  2690725.0  ZTS  Health Care\n",
      "606800 2017-08-11  60.05  60.22  59.64  59.73  2285863.0  ZTS  Health Care\n"
     ]
    }
   ],
   "source": [
    "# Añadimos una nueva columna a nuestro dataframe original que recoja el sector al que pertenece cada compañía.\n",
    "sp['Sector'] = sp['Name']\n",
    "sp['Sector'] = sp['Sector'].map(cn.set_index('Symbol')['Sector'])\n",
    "print(sp.head(5))\n",
    "print(sp.tail(5))"
   ]
  },
  {
   "cell_type": "code",
   "execution_count": 29,
   "metadata": {},
   "outputs": [
    {
     "name": "stdout",
     "output_type": "stream",
     "text": [
      "['ALGN' 'AMD' 'ANDV' 'ANSS' 'AOS' 'ARE' 'BHF' 'BHGE' 'DISH' 'DRE' 'DXC'\n",
      " 'HLT' 'INFO' 'IT' 'MGM' 'NYSE:LMT' 'NYSE:NBL' 'NYSE:NWL' 'PKG' 'RE' 'RJF'\n",
      " 'RMD' 'SNPS']\n"
     ]
    }
   ],
   "source": [
    "sinsector = []\n",
    "for i in np.where(sp.Sector.isnull()):\n",
    "    sinsector.append(sp.iloc[i,-2])\n",
    "print(np.unique(sinsector))"
   ]
  },
  {
   "cell_type": "code",
   "execution_count": 30,
   "metadata": {},
   "outputs": [
    {
     "name": "stdout",
     "output_type": "stream",
     "text": [
      "           Consumer Discretionary Consumer Staples Energy Financials  \\\n",
      "Date                                                                   \n",
      "2012-08-13                    100              100    100        100   \n",
      "2012-08-14                    NaN              NaN    NaN        NaN   \n",
      "2012-08-15                    NaN              NaN    NaN        NaN   \n",
      "2012-08-16                    NaN              NaN    NaN        NaN   \n",
      "2012-08-17                    NaN              NaN    NaN        NaN   \n",
      "\n",
      "           Health Care Industrials Information Technology Materials  \\\n",
      "Date                                                                  \n",
      "2012-08-13         100         100                    100       100   \n",
      "2012-08-14         NaN         NaN                    NaN       NaN   \n",
      "2012-08-15         NaN         NaN                    NaN       NaN   \n",
      "2012-08-16         NaN         NaN                    NaN       NaN   \n",
      "2012-08-17         NaN         NaN                    NaN       NaN   \n",
      "\n",
      "           Real Estate Telecommunications Services Utilities  \n",
      "Date                                                          \n",
      "2012-08-13         100                         100       100  \n",
      "2012-08-14         NaN                         NaN       NaN  \n",
      "2012-08-15         NaN                         NaN       NaN  \n",
      "2012-08-16         NaN                         NaN       NaN  \n",
      "2012-08-17         NaN                         NaN       NaN  \n"
     ]
    }
   ],
   "source": [
    "# Creamos un nuevo data frame que recogerá en base 100 la evolución diaria de cada sector. \n",
    "sectors = np.unique(cn['Sector'])\n",
    "indicesector = pd.DataFrame(data = None, columns = sectors)\n",
    "\n",
    "# Damos como index del data frame la fecha\n",
    "indicesector['Date'] = pd.DataFrame(sp500)['Date']\n",
    "indicesector = indicesector.set_index('Date')\n",
    "\n",
    "# Asignamos el primer valor de la serie, que es 100.\n",
    "indicesector.iloc[0][:] = 100\n",
    "print(indicesector.head(5))"
   ]
  },
  {
   "cell_type": "code",
   "execution_count": null,
   "metadata": {
    "scrolled": false
   },
   "outputs": [],
   "source": []
  },
  {
   "cell_type": "code",
   "execution_count": null,
   "metadata": {},
   "outputs": [],
   "source": [
    "indice_sectorial = sectorial.fillna(100) #rellenamos los NAN (en la primera fila) con la base 100\n",
    "indice_sectorial = indice_sectorial * np.cumprod(sectorial) #calculamos la variación acumulada del índice para cada sector\n",
    "print(indice_sectorial.head(3))"
   ]
  },
  {
   "cell_type": "code",
   "execution_count": null,
   "metadata": {},
   "outputs": [],
   "source": [
    "import matplotlib.pyplot as plt\n",
    "%matplotlib inline\n",
    "\n",
    "#plt.figure(figsize=(40,8),legend=True)\n",
    "#indice_sectorial.plot(grid = True)\n",
    "\n",
    "#plt.title ('Índice por Sector')\n",
    "#plt.ylabel('Precios')\n",
    "#plt.xlabel('Fechas')\n",
    "\n",
    "indice_sectorial.plot(figsize = (20, 8), title = 'Índice por Sector Base100',\n",
    "                         ylim = [0, 350], \n",
    "                         marker = '^', markersize = 1, fontsize=12);\n",
    "\n",
    "plt.legend(loc=0, fontsize=12)\n",
    "plt.xlabel('Fecha', fontsize=12)\n",
    "plt.ylabel('Evolutivo Índice por Sector Base100', fontsize=12)\n",
    "plt.grid()"
   ]
  },
  {
   "cell_type": "code",
   "execution_count": null,
   "metadata": {
    "collapsed": true
   },
   "outputs": [],
   "source": [
    "#PARA BORRAR HECHO EN EL ÍNDICE SECTORIAL\n",
    "for sectores in sectors:\n",
    "    indicesector.loc['2012-08-14':, sectores] = indicesector.loc['2012-08-13',sectores] * (\n",
    "        np.cumprod(\n",
    "            sectorial.loc[\n",
    "                (sectorial.index.get_level_values('Sector') == sectores) & \n",
    "                (sectorial.index.get_level_values('Date') > '2012-08-13') &\n",
    "                (sectorial.index.get_level_values('Date') <= '2017-08-11')\n",
    "\n",
    "            ][:].values))\n",
    "print(indicesector.head())"
   ]
  },
  {
   "cell_type": "markdown",
   "metadata": {},
   "source": [
    "__VALORES CON MAYOR RENTABILIDAD__\n",
    "\n",
    "Identificamos los valores con mayor rentabilidad calculando la variación media mensual acumulada por valor. Como rentabilidades pasadas no garantizan futuras, cogeremos sólo los datos del último año completo disponible, 2016. \n",
    "\n",
    "No obstante, el usuario puede modificar dos parámetros para adaptar el análisis a sus necesidades:\n",
    "\n",
    "__1.__ Las fechas del __periodo de tiempo__ de análisis.En start and end. Note que los datos disponibles cubren el rango desde 2012 a Agosto de 2017.\n",
    "\n",
    "__2.__ El __número (n) de Top valores__ con mayor variabilidad a analizar. \n",
    "\n",
    "\n",
    "__TOPN valores en RENTABILIDAD en 2016:__"
   ]
  },
  {
   "cell_type": "code",
   "execution_count": null,
   "metadata": {},
   "outputs": [],
   "source": [
    " #construimos índice en df en base a la fecha. Esto nos permite trabajar con columnas y filas más eficazmente.\n",
    "sp['Date'] = pd.to_datetime(sp['Date'], format = '%d/%m/%Y')\n",
    "sp.set_index(['Date'], inplace = True)\n",
    "sp.head()"
   ]
  },
  {
   "cell_type": "code",
   "execution_count": null,
   "metadata": {
    "scrolled": false
   },
   "outputs": [],
   "source": [
    "#Preparamos los datos.\n",
    "#Seleccionar mes y año para el rango de análisis\n",
    "\n",
    "start = ('01-2016')\n",
    "end = ('12-2016')\n",
    "print('Periodo de análisis del ',start,'al ',end)\n",
    "print('============================================')\n",
    "\n",
    "rentabilidadM = sp.loc[start:end,['Name', 'Close']]   \n",
    "rentabilidadM = rentabilidadM.groupby(['Name','Date']).sum()\n",
    "rentabilidadM = rentabilidadM.unstack(level = 0)                         #preparamos estructura datos\n",
    "rentabilidadM['EndMonth'] = rentabilidadM.index + pd.offsets.MonthEnd(1) #creamos los meses\n",
    "rentabilidadM = rentabilidadM.groupby('EndMonth').mean()                 #agrupamos datos por mes\n",
    "\n",
    "#Tenemos los datos y periodo de análisis. Identifiquemos los TopN.\n",
    "#Introducir el N de valores con mayor rentabiliad que queramos visualizar\n",
    "\n",
    "n=5 \n",
    "\n",
    "nlargest_rentabilidad = pd.DataFrame(rentabilidadM.iloc[-1,:].nlargest(n)) #Indentifica los n largest\n",
    "nlargest_rentabilidad = nlargest_rentabilidad.unstack(level=0).transpose() #Harmoniza forma para indexar \n",
    "nlargest_rentabilidad.columns[:]                              #Array de nombres de los n largest valores \n",
    "rentabilidadM = rentabilidadM.Close[nlargest_rentabilidad.columns[:]] #Salida datos nlargest\n",
    "\n",
    "#Seleccionados los nlargest calculamos la rentabilidad en base 100 o variabilidad de cada valor en relación\n",
    "#al valor de inicial, multiplicado por 100.\n",
    "\n",
    "start_values=pd.DataFrame(rentabilidadM[:1],index=rentabilidadM.index)\n",
    "print(start_values)\n",
    "print('===================================================================')\n",
    "print(rentabilidadM.head())\n",
    "rentabilidadM = rentabilidadM.divide(start_values.iloc[0],axis=1)*100\n",
    "\n",
    "\n",
    "\n",
    "print('Array de TopN valores en rentabilidad')\n",
    "#print(nlargest_rentabilidad.columns[:])                             \n",
    "print('======================================================================')\n",
    "print('Head de datos para graficar el evolutivo de los Top',n,'valores en rentabilidad')\n",
    "print(rentabilidadM.head())\n",
    "print('======================================================================')\n",
    "print(\"Estos son los sectores a los que pertenecen los 5 valores más rentables: \")\n",
    "for sectorren in nlargest_rentabilidad.columns[:]:\n",
    "    print(\"  El valor\",sectorren, \"pertenece al sector\", sp[sp['Name'] == sectorren].iloc[5,-1],\".\")"
   ]
  },
  {
   "cell_type": "markdown",
   "metadata": {},
   "source": [
    "__VALORES CON MAYOR VOLATILIDAD__\n",
    "\n",
    "Identificar los N valores con mayor volatilidad nos da un primer paso para identificar el riesgo en una cartera de inversión.  __La volatilidad es lo que varía la rentabilidad de una acción respecto a su media, en un periodo determinado__ (estadísticamente es la desviación estándar de las variaciones diarias, agrupadas en un periodo).\n",
    "\n",
    "\n",
    "Haremos el estudio de la volatilidad en base a la desviación estándar mensual. Volatilidades pasadas no garantizan volatilidades futuras, por lo tanto, cogeremos datos sólo del último año completo disponible, 2016. \n",
    "\n",
    "No obstante, el usuario puede modificar dos parámetros para adaptar el análisis a sus necesidades:\n",
    "\n",
    "__1.__ Las fechas del __periodo de tiempo__ de análisis al igual que se hizo para la rentabilidad.\n",
    "\n",
    "__2.__ El __número (n) de Top valores__ con mayor volatilidad a analizar. \n",
    "\n",
    "\n",
    "__TOPN valores en VOLATILIDAD en 2016:__"
   ]
  },
  {
   "cell_type": "code",
   "execution_count": null,
   "metadata": {},
   "outputs": [],
   "source": [
    "start = ('01-2016')\n",
    "end = ('12-2016')\n",
    "print('Periodo de análisis del ',start,'al ',end)\n",
    "\n",
    "volatilidadM = sp.loc[start:end,['Name', 'Close']]                     #Datos\n",
    "volatilidadM = volatilidadM.groupby(['Name','Date']).sum()\n",
    "volatilidadM = volatilidadM.unstack(level = 0).pct_change()            #preparamos estructura de datos\n",
    "volatilidadM['EndMonth'] = volatilidadM.index + pd.offsets.MonthEnd(1) #creamos los meses\n",
    "volatilidadM = volatilidadM.groupby('EndMonth').std()                  #agrupamos datos por mes\n",
    "\n",
    "#Tenemos los datos y periodo de análisis. Identifiquemos los Top5\n",
    "#Introducir el N de valores con mayor rentabiliad que queramos visualizar\n",
    "\n",
    "n=5\n",
    "\n",
    "nlargest_volatilidad = pd.DataFrame(volatilidadM.iloc[-1,:].nlargest(n)) #Indentifica los n largest\n",
    "nlargest_volatilidad = nlargest_volatilidad.unstack(level=0).transpose() #Harmoniza forma para indexar \n",
    "nlargest_volatilidad.columns[:] #Array de nombres de los n largest valores \n",
    "volatilidadM = volatilidadM.Close[nlargest_volatilidad.columns[:]].head() #Salida datos nlargest\n",
    "\n",
    "print('Array de TopN valores en volatilidad en Diciembre 2016')\n",
    "print(nlargest_volatilidad.columns[:])                             \n",
    "print('============================================================')\n",
    "print('Datos para graficar el evolutivo de los Top',n,'valores en volatilidad')\n",
    "print('Volatitilidades mensuales de los valores más volátiles en Diciembre de 2016')\n",
    "print(volatilidadM.head())\n",
    "print('============================================================')\n",
    "print(\"Estos son los sectores a los que pertenecen los 5 valores más volátiles: \")\n",
    "for sectorvol in nlargest_volatilidad.columns[:]:\n",
    "    print(\"  El valor\",sectorvol, \"pertenece al sector\", sp[sp['Name'] == sectorvol].iloc[5,-1],\".\")"
   ]
  },
  {
   "cell_type": "code",
   "execution_count": null,
   "metadata": {},
   "outputs": [],
   "source": [
    "### GRÁFICO RENTABILIDAD\n",
    "\n",
    "import matplotlib.pyplot as plt\n",
    "% matplotlib inline\n",
    "\n",
    "print('Datos evolutivo de los Top',n,' valores más rentables')\n",
    "print(rentabilidadM.head())\n",
    "\n",
    "rangomin = round(rentabilidadM.min().min()) #min. valor matriz datos para rango eje Y\n",
    "rangomax = round(rentabilidadM.max().max()) #max. valor matriz datos para rango eje Y\n",
    "\n",
    "chart = rentabilidadM.plot(figsize = (15, 4), title = 'Top valores más rentables: %s - %s' % (start,end),\n",
    "                         ylim = [rangomin-20, rangomax+20], \n",
    "                         marker = '^', markersize = 4);\n",
    "\n",
    "plt.legend(loc=0)\n",
    "plt.xlabel('Mes')\n",
    "plt.ylabel('Rentabilidad Base 100')\n",
    "plt.grid()\n",
    "\n",
    "# GRÁFICO VOLATILIDAD\n",
    "\n",
    "print('==================================')\n",
    "print('Datos evolutivo de los Top',n,' valores más volátiles')\n",
    "print(volatilidadM.head())\n",
    "\n",
    "rangomax_var = round(volatilidadM.max().max()) #max. valor matriz datos para rango eje Y\n",
    "\n",
    "chart=volatilidadM.plot(figsize = (15, 4), \n",
    "                         title = 'Volatilidades mensuales de los valores con mayor volatilidad en Diciembre de 2016', \n",
    "                         ylim = [0, rangomax_var+0.1], \n",
    "                         marker = '^', markersize = 4);\n",
    "plt.legend(loc=0)\n",
    "plt.xlabel('Mes')\n",
    "plt.ylabel('Volatilidad')\n",
    "plt.grid()"
   ]
  },
  {
   "cell_type": "markdown",
   "metadata": {},
   "source": [
    "Vamos a ver si hay alguna __correlación entre los valores que presentan mayor volatilidad__. Si la hay, nos darían valores sobre los que poder una estrategia de inversión conjunta. "
   ]
  },
  {
   "cell_type": "code",
   "execution_count": null,
   "metadata": {
    "scrolled": false
   },
   "outputs": [],
   "source": [
    "import seaborn as sns\n",
    "\n",
    "start = ('01-2016')\n",
    "end = ('12-2016')\n",
    "    \n",
    "      \n",
    "#Gráfico matriz correlaciones\n",
    "fig = plt.figure(figsize=(6,6))\n",
    "r = sns.heatmap(volatilidadM.corr(), cmap='BuPu', annot=True)\n",
    "r.set_title(\"Densidad de correlaciones\")\n",
    "print('=== MATRIZ CORRELACIONES VALORES MAYOR VARIABILIDAD ===')\n",
    "print('Periodo de análisis del ',start,'al ',end)\n",
    "print(volatilidadM.corr())\n",
    "print('===================GRAFICO VALORES=====================')"
   ]
  },
  {
   "cell_type": "markdown",
   "metadata": {},
   "source": [
    "Se observa que los hay una alta correlación entre los pares de valores MU y HLT (89%), y también entre NFX y MRO (84%), lo que indica que ambos valores suelen variar en la misma media. "
   ]
  },
  {
   "cell_type": "markdown",
   "metadata": {},
   "source": [
    "__ESTUDIO DEL VALOR CON MAYOR VOLATILIDAD__\n",
    "\n",
    "Vamos a profundizar en el estudio del valor con mayor volatilidad. Evaluaremos si presenta estacionalidad y veremos su componentes de tendencia y cíclicos durante el periodo elegido. El objetivo es obtener información para definir la estrategia de inversión en el mismo.\n",
    "\n",
    "Utilizaremos el análisis de componentes que desagrega el evolutivo de una acción en cuatro partes:\n",
    "- __Nivel:__ Valores de la serie temporal.\n",
    "- __Tendencia:__ Tendencia creciente o decreciente en la serie de datos.\n",
    "- __Estacionalidad:__ Repeticiones del comportamiento a c/p (corto plazo) durante el periodo.\n",
    "- __Ruido:__ Variación random a lo largo del periodo analizado.\n",
    "\n",
    "En el valor seleccionado vemos que tiene una clara estacionalidad mensual. Subiendo practicamente la primera mitad del mes y bajando durante la segunda mitad del mismo. La tendencia del valor es al alza. \n",
    "\n",
    "Primero indentificaremos el valor con mayor volatilidad."
   ]
  },
  {
   "cell_type": "code",
   "execution_count": null,
   "metadata": {},
   "outputs": [],
   "source": [
    "#OPCIONAL SI SE PUEDE TERMINAR. FALTA AÑADIRLE QUE COGE AUTOMÁTICAMENTE EL VALOR MÁS VOLÁTIL\n",
    "#Selecciona el periodo mensual deseado para el análisis \n",
    "start = ('01-2016')\n",
    "end = ('12-2016')\n",
    "\n",
    "from pandas.core import datetools\n",
    "volatilidad_mean=volatilidadM.agg(['mean'])\n",
    "max_volatilidad= volatilidad_mean[[max(volatilidad_mean)]]\n",
    "print(volatilidad_mean)\n",
    "print(max_volatilidad)\n",
    "name=max(volatilidad_mean) #nombre del valor más volatil\n",
    "#print(max(volatilidad_mean.max())) #valor medio del valor más volatil\n",
    "\n",
    "componentes_data=sp.loc[start:end,['Name','Close']].groupby(['Name','Date']).sum().unstack(level=0)\n",
    "#componentes_data_MMM=componentes_data[(componentes_data.columns[3])]\n",
    "#componentes_data_MMM=componentes_data[(componentes_data.columns.levels=='PCLN')]\n",
    "cierres = sp[sp['Name'] == name]['Close']\n",
    "print(cierres)\n",
    "\n",
    "print(componentes_data.head(2))\n",
    "print(componentes_data.columns.get_level_values('Close'))\n",
    "\n",
    "\n",
    "import statsmodels as sm\n",
    "import statsmodels.api as sm\n",
    "\n",
    "descomposicion=sm.tsa.seasonal_decompose(componentes_data_MMM, model='additive',freq=22)  \n",
    "descomposicion.plot()\n",
    "plt.minorticks_on()\n",
    "plt.xticks(size = 'medium', rotation = 90) \n",
    "plt.axhline(0, color = 'r')"
   ]
  },
  {
   "cell_type": "markdown",
   "metadata": {},
   "source": [
    "## CONTRASTE DE HIPÓTESIS\n",
    "El S&P500 originariamente estaba compuesto por cada una de las 500 compañías de mayor capitalización de los mercados norteamericanos de renta variable. Hoy por hoy el número ha crecido hasta los 505 (aunque este dataframe tiene 503 valores distintos) debido a que hay varias compañías con dos clases de acciones cotizando.\n",
    "Estas compañías son:\n",
    "* Google (con acciones cotizando con name GOOG y GOOGL), \n",
    "* Under Armour (UA, UAA), \n",
    "* Discovery Communications (DISCA, DISCK), \n",
    "* News Corp (NWSA, NWS), \n",
    "* Twenty-One Century Fox (FOXA, FOX). \n",
    "\n",
    "Queremos hacer un contraste de hipótesis, y demostrar mediante estadística que en Google, las dos clases de acciones se comportan exactamente igual.\n",
    "\n",
    "#ANOTACIONES DE LOURDES:\n",
    "Fernando, si haces un ANOVA para el contraste, explicaria un poco el modelo. Lo de abajo es una definición de internet. La diapositiva 11 de este ppt muestra los contrastes según tipo de variables y otros criterios.\n",
    "https://es.slideshare.net/rruizdeadana/unidad-8-eleccion-de-la-prueba-de-significacion-estadistica\n",
    "\n",
    "Creo que tu caso se podría hacer con una two-sample t-student porque tus dos series de datos son de diferentes poblaciones. En mi caso por ejemplo es sobre una misma población de datos. El ANOVA require esto en los datos. En el caso de las acciones, lo que pongo en negrita abajo, no se cumple.\n",
    "\n",
    "Condiciones:\n",
    "\n",
    "En ANOVA de un factor solo se relacionan dos variables: una variable dependiente (o a explicar) y una variable independiente (que en esta técnica se suele llamar factor)\n",
    "__La variable dependiente es cuantitativa (escalar) y la variable independiente es categórica (nominal u ordinal).__\n",
    "Se pide que las variables sigan la distribución normal, aunque como siempre esto es difícil de cumplir en investigaciones sociales. \n",
    "También que las varianzas (es decir, las desviaciones típicas al cuadrado) de cada grupo de la variable independiente sean similiares (fenómeno que se conoce como homocedasticidad). Aunque esto es lo ideal, en la realidad cuesta de cumplir, e igualmente se puede aplicar ANOVA\n",
    "\n",
    "http://hamelg.blogspot.com.es/2015/11/python-for-data-analysis-part-24.html\n"
   ]
  },
  {
   "cell_type": "code",
   "execution_count": null,
   "metadata": {},
   "outputs": [],
   "source": [
    "# CREAMOS DATA FRAME PARA RECOGER LOS VALORES DE LA COLUMNA 'CLOSE' DE GOOG Y GOOGL, PERO SOLO A PARTIR DEL 3 ABR 2014,\n",
    "# QUE ES CUANDO SE PRODUCE EL DESDOBLAMIENTO DE LA ÚNICA ACCIÓN QUE HABÍA HASTA ENTONCES.\n",
    "\n",
    "google = pd.DataFrame(data = sp[sp['Name'] == 'GOOG'].loc[:,['Close']])\n",
    "google.columns = ['GOOG']\n",
    "google['GOOGL'] = sp[sp['Name'] == 'GOOGL']['Close'].values\n",
    "google = google.loc['2014-04-03':,]\n",
    "print(google.tail(5))"
   ]
  },
  {
   "cell_type": "code",
   "execution_count": null,
   "metadata": {},
   "outputs": [],
   "source": [
    "# Dibujamos la evolución de los cierres diarios de los dos valores.\n",
    "\n",
    "import matplotlib.pyplot as plt\n",
    "\n",
    "pylab.rcParams['figure.figsize'] = (15, 9)\n",
    "\n",
    "google['GOOG'].plot(grid = True)\n",
    "google['GOOGL'].plot(grid = True)\n",
    "\n",
    "plt.title ('Evolución diaria de precios GOOG y GOOGL')\n",
    "plt.ylabel('Precios')\n",
    "plt.legend(['GOOG','GOOGL'], loc = 0)"
   ]
  },
  {
   "cell_type": "markdown",
   "metadata": {},
   "source": [
    "A la vista del gráfico, parece que las dos series de precios tienen un comportamiento similar. \n",
    "\n",
    "Vamos a realizar un análisis sobre esto, valorar la posibilidad de que se comporten igual. \n",
    "\n",
    "Para ello, un primer acercamiento podría ser ver el coeficiente de correlación entre ambas series:"
   ]
  },
  {
   "cell_type": "code",
   "execution_count": null,
   "metadata": {},
   "outputs": [],
   "source": [
    "google['GOOG'].corr(google['GOOGL'])"
   ]
  },
  {
   "cell_type": "markdown",
   "metadata": {},
   "source": [
    "Vemos que la correlación es del 99,88%, por tanto sí que parece que tengan dependencia una de la otra. \n",
    "\n",
    "Vamos a profundizar un poco más en el análisis y comprobarlo realizando un contraste de hipótesis.\n",
    "\n",
    "Pero antes, para hacer comparativas de series de datos deberíamos normalizar las series, puesto que las series de precios a pesar de ser similares son diferentes. Para conseguir esto hay varias técnicas, y elegiremos la más adecuada en función del resultado que arroje cada una:\n",
    "* Normalizar las variables o estandarizarlas (a la vista de los plot parece mejor estandarizar)\n",
    "* Trabajar con las variaciones en % de los valores\n",
    "* Trabajar en base 100\n",
    "\n",
    "Preparamos las series de datos que vamos a necesitar para nuestro análisis:"
   ]
  },
  {
   "cell_type": "markdown",
   "metadata": {},
   "source": [
    "### a) Normalizar las variables"
   ]
  },
  {
   "cell_type": "code",
   "execution_count": null,
   "metadata": {},
   "outputs": [],
   "source": [
    "# Normalizamos los datos de los dos valores, GOOG y GOOGL, con la librería de Python sklearn\n",
    "from sklearn import preprocessing\n",
    "normalized_google = preprocessing.normalize(google)\n",
    "\n",
    "# Reconvertimos los arrays en dataframe, para usar librería PLOT\n",
    "normalized_google = pd.DataFrame(data=normalized_google[0:,0:], index=google.index, columns= ['GOOG', 'GOOGL'])\n",
    "\n",
    "# Dibujamos los dos valores, ya normalizados\n",
    "import matplotlib.pyplot as plt\n",
    "%matplotlib inline\n",
    "%pylab inline\n",
    "pylab.rcParams['figure.figsize'] = (15, 9)\n",
    "\n",
    "normalized_google.plot(grid = True)\n",
    "\n",
    "plt.title ('Evolución diaria de precios GOOG y GOOGL')\n",
    "plt.ylabel('Precios')\n",
    "plt.legend(['GOOG','GOOGL'], loc = 0)"
   ]
  },
  {
   "cell_type": "markdown",
   "metadata": {},
   "source": [
    "Aunque vemos similitud en el comportamiento no parece que la técnica nos de la serie de serie de datos con la que queremos trabajar.\n",
    "\n",
    "Vamos por tanto a ver otra forma de transformar la serie de datos.\n",
    "### b) Estandarizar las variables"
   ]
  },
  {
   "cell_type": "code",
   "execution_count": null,
   "metadata": {
    "scrolled": false
   },
   "outputs": [],
   "source": [
    "# Estandarizamos los datos de los dos valores, GOOG y GOOGL, con la librería de Python sklearn\n",
    "from sklearn import preprocessing\n",
    "standardized_google = preprocessing.scale(google)\n",
    "# Reconvertimos los arrays en dataframe, para usar librería PLOT\n",
    "standardized_google = pd.DataFrame(data=standardized_google[0:,0:], index=google.index, columns= ['GOOG', 'GOOGL'])\n",
    "\n",
    "\n",
    "# Dibujamos los dos valores, ya standarizados\n",
    "import matplotlib.pyplot as plt   # Import matplotlib\n",
    "%matplotlib inline\n",
    "%pylab inline\n",
    "pylab.rcParams['figure.figsize'] = (15, 9)\n",
    "\n",
    "standardized_google.plot(grid = True)\n",
    "\n",
    "plt.title ('Evolución diaria de precios GOOG y GOOGL')\n",
    "plt.ylabel('Precios')\n",
    "plt.legend(['GOOG','GOOGL'], loc = 0)"
   ]
  },
  {
   "cell_type": "markdown",
   "metadata": {},
   "source": [
    "Este gráfico muestra que los datos que tenemos ahora son una mejor aproximación a lo que buscamos, que tengan la misma escala de precios.\n",
    "\n",
    "No obstante, vamos a comprobar otras dos formas de transformar los datos.\n",
    "\n",
    "### c) Trabajar con variaciones diarias en % de las series"
   ]
  },
  {
   "cell_type": "code",
   "execution_count": null,
   "metadata": {},
   "outputs": [],
   "source": [
    "# Añadimos a nuestro dataframe 'google' un nuevo par de columnas:\n",
    "# 1) Las variaciones porcentuales diarias de los precios.\n",
    "google['GOOGChange'] = google['GOOG'].pct_change()+1\n",
    "google['GOOGLChange'] = google['GOOGL'].pct_change()+1\n",
    "print(google.head(5))"
   ]
  },
  {
   "cell_type": "code",
   "execution_count": null,
   "metadata": {},
   "outputs": [],
   "source": [
    "# Dibujamos los dos valores, trabajando con las variaciones \n",
    "import matplotlib.pyplot as plt   # Import matplotlib\n",
    "%matplotlib inline\n",
    "%pylab inline\n",
    "pylab.rcParams['figure.figsize'] = (15, 9)\n",
    "\n",
    "GOOGCHG = google['GOOGChange']\n",
    "GOOGLCHG = google['GOOGLChange']\n",
    "\n",
    "GOOGCHG.plot(grid = True)\n",
    "GOOGLCHG.plot(grid = True)\n",
    "\n",
    "plt.title ('Variación diaria en % de los precios de GOOG y GOOGL')\n",
    "plt.ylabel('Precios')\n",
    "plt.legend(['GOOG','GOOGL'], loc = 0)"
   ]
  },
  {
   "cell_type": "markdown",
   "metadata": {},
   "source": [
    "Parecen datos bastante homogéneos entre sí, válidos también para trabajar con ellos.\n",
    "\n",
    "### d) Trabajar en base 100"
   ]
  },
  {
   "cell_type": "code",
   "execution_count": null,
   "metadata": {},
   "outputs": [],
   "source": [
    "# Construimos las series de precios diarias en base 100, a partir de las variaciones diaris en %.\n",
    "google['goog'] = 100\n",
    "google['googl'] = 100\n",
    "google.loc[1:,'goog'] = google.goog.iloc[0] * np.cumprod(google.GOOGChange.iloc[1:])\n",
    "google.loc[1:,'googl'] = google.googl.iloc[0] * np.cumprod(google.GOOGLChange.iloc[1:])\n",
    "\n",
    "print(google.head(5))"
   ]
  },
  {
   "cell_type": "code",
   "execution_count": null,
   "metadata": {},
   "outputs": [],
   "source": [
    "# Dibujamos las dos series de valores, en base 100\n",
    "import matplotlib.pyplot as plt   # Import matplotlib\n",
    "%matplotlib inline\n",
    "%pylab inline\n",
    "pylab.rcParams['figure.figsize'] = (15, 9)\n",
    "\n",
    "google['goog'].plot(grid = True)\n",
    "google['googl'].plot(grid = True)\n",
    "\n",
    "plt.title ('Evolución diaria de precios GOOG y GOOGL')\n",
    "plt.ylabel('Precios')\n",
    "plt.legend(['GOOG','GOOGL'], loc = 0)"
   ]
  },
  {
   "cell_type": "markdown",
   "metadata": {},
   "source": [
    "### ESTA ES LA PARTE QUE QUITARÍA, DEL ANOVA DE 1 FACTOR Y DEJAR SOLO LA T-STUDENT\n",
    "Estos datos no parecen muy válidos para trabajar con ellos, puesto que si existen diferencias entre las muestras de ambas series, al ir acumulando diariamente estas se van haciendo cada vez más grandes, no son datos independientes, sino que cada uno tiene en cuenta el pasado.\n",
    "\n",
    "__Entre las dos formas de normalizar los datos preferimos la de trabajar con las variaciones % diarias.__"
   ]
  },
  {
   "cell_type": "markdown",
   "metadata": {},
   "source": [
    "<code>f_oneway</code> tests the null hypothesis that two or more groups have the same population mean. The hypothesis is rejected if any of these probabilities is less than or equal to a small, fixed but arbitrarily pre-defined threshold value $\\alpha$, which is referred to as the level of significance.\n",
    "\n",
    "However, it has some assumptions: http://docs.scipy.org/doc/scipy-0.17.0/reference/generated/scipy.stats.f_oneway.html   Do they hold in our case? "
   ]
  },
  {
   "cell_type": "code",
   "execution_count": null,
   "metadata": {},
   "outputs": [],
   "source": [
    "print('Correlación: ', GOOGCHG.corr(GOOGLCHG), 'Covarianza: ',GOOGCHG.cov(GOOGLCHG))\n",
    "print('Medias', GOOGCHG.mean(), GOOGLCHG.mean())\n",
    "\n",
    "# compute one-way ANOVA P value \n",
    "# from 3 samples (for two equiv. t-test)\n",
    "from scipy import stats  \n",
    "\n",
    "f_val, p_val = stats.f_oneway(GOOGCHG, GOOGLCHG)        \n",
    "print (\"One-way ANOVA P =\", p_val )\n",
    "\n",
    "from scipy.stats import ttest_1samp\n",
    "t, p = ttest_1samp(GOOGCHG, 0)\n",
    "# If p is large, we can accept that the population has the mean indicated.\n",
    "print(p)\n",
    "t2, p2 = ttest_1samp(GOOGLCHG, 0)\n",
    "print(p2)"
   ]
  },
  {
   "cell_type": "markdown",
   "metadata": {},
   "source": [
    "### ESTA PARTE DEL TTEST ES LA QUE SE DEJA Y LAS CELDAS DE CÓDIGO ANTERIORES QUE SEAN NECESARIAS. CREO QUE TODAS MENOS LAS DE ANOVA. PERO ECHA OTRO VISTAZO POR SI HAY QUE ELIMINAR ALGUNA MÁS.\n",
    "\n",
    "PERO TE SALE QUE SE RECHAZARÍA LA Ho Y LAS MEDIAS SERIAN IGUALES. REVISA COMO HE NORMALIZADO LOS DATOS CON UNA FUNCIÓN EN LA MÍA Y lanza el turyo OTRA VEZ con esas modificaciones. LUEGO INTERPRETAS EL P SEGÚN EL MÍO Y LISTO. \n",
    "\n",
    "Ayuda de la función ttest_ind:\n",
    "https://docs.scipy.org/doc/scipy/reference/generated/scipy.stats.ttest_ind.html"
   ]
  },
  {
   "cell_type": "code",
   "execution_count": null,
   "metadata": {},
   "outputs": [],
   "source": [
    "#CON ESTE ES SUFICIENTE. \n",
    "\n",
    "min_max_scaler = preprocessing.MinMaxScaler() #df_norm = (df - df.mean()) / (df.max() - df.min())\n",
    "np_scaled = min_max_scaler.fit_transform(GOOG, GOOGL)\n",
    "df_normalized = pd.DataFrame(np_scaled, columns =['GOOGnorm', 'GOOGLnorm'])\n",
    "\n",
    "print('======== DATOS NORMALIZADOS ========')\n",
    "print(df_normalized)\n",
    "\n",
    "#T-TEST para 2 poblaciones con datos relacionados. En este caso el índice deflactado se construye \n",
    "#a partir de los de Indice en Close.\n",
    "\n",
    "GOOGnorm=df_normalized.IndiceSP\n",
    "GOOGLnorm=df_normalized.Indice_deflactado\n",
    "\n",
    "\n",
    "import scipy.stats as stats\n",
    "sample1 = np.random.randn(10, 1)\n",
    "sample2 = 1 + np.random.randn(15, 1)\n",
    "t_stat, p_val = stats.ttest_ind(GOOGnorm, GOOGLnorm, equal_var=False)\n",
    "print(t_stat)\n",
    "#array([-3.94339083])\n",
    "print(p_val)\n",
    "#array([ 0.00070813])\n"
   ]
  },
  {
   "cell_type": "markdown",
   "metadata": {},
   "source": [
    "__INTERPRETACIÓN DE RESULTADOS:__\n",
    "\n",
    "En teoría:\n",
    "\n",
    "1. p-value > 0.05 o 0.1. Ho no se puede rechazar. Las medias son diferentes.\n",
    "\n",
    "2. p-value < 0.05 o 0.1, ej: 1%, 5% o 10%, entonces rechazamos Ho, aceptando H1. Las medias son iguales. \n",
    "\n",
    "Esto es así porque valores pequeños de p están asociados a valores altos en t-student. Hay una correlación inversa entre ambos.\n",
    "\n",
    "El __p-value obtenido es de 0.00984 < 0.05 (α = 5%)__.  Por lo tanto rechazamos Ho.\n",
    "\n",
    "Podemos afirmar que a largo plazo el Indice S&P genera ganancias reales, por encima de la inflación. "
   ]
  },
  {
   "cell_type": "markdown",
   "metadata": {},
   "source": [
    "### ¿SE GANA EN LA BOLSA A LARGO PLAZO?\n",
    "\n",
    "Muchos pequeños inversionistas y no inversionistas se plantean la pregunta de si realmente la bolsa genera ganancias a l/p. Los expertos en economía afirman que sí, pero claro, disponiendo de un mínimo de conocimientos para elegir los valores y el momento en el tiempo más adecuado para invertir.\n",
    "\n",
    "Vamos a intentar responder a esta pregunta con una aproximación sencilla dada la limitación de los datos disponibles.\n",
    "\n",
    "\n",
    "Fuente para sacar los datos de inflación en US: http://www.inflation.eu/inflation-rates/united-states/historic-inflation/cpi-inflation-united-states.aspx\n",
    "\n",
    "__Datos__: Compararemos el evolutivo del Índice S&P y el mismo Índice ajustado a la inflación (_Índice deflactado_). \n",
    "\n",
    "__Perido__: Cogeremos los datos del histórico del que disponemos, incluyendo 2017 que no está completo, en base anual acorde a los datos de inflación disponibles en el link de más arriba."
   ]
  },
  {
   "cell_type": "code",
   "execution_count": null,
   "metadata": {},
   "outputs": [],
   "source": [
    "from pylab import figure, show\n",
    "\n",
    "datos_Ho = pd.DataFrame(indice.groupby(indice.index.year).last()['Close'])\n",
    "inflacion_rate=pd.Series([0.0174,0.0150,0.0076,0.0073,0.0207,0.0211], \n",
    "                         index= datos_Ho.index, name='Inflation', \n",
    "                         dtype='float32')\n",
    "datos_Ho = pd.concat((datos_Ho,inflacion_rate), axis=1, join='inner', names=['Indice', 'Inflacion'])\n",
    "datos_Ho['Indice_deflactado'] = datos_Ho.Close * (1-datos_Ho.Inflation)\n",
    "\n",
    "print(datos_Ho)\n",
    "print(datos_Ho.mean())\n",
    "\n",
    "\n",
    "datos_Ho[['Close','Indice_deflactado']].plot(figsize=(16,4), \n",
    "                                                           color=('navy','lightseagreen'))\n",
    "plt.grid()\n",
    "plt.title('Comparativa Indice S&P e Indice_deflactado anual')\n",
    "plt.legend(fontsize=12, labels=('Indice', 'Indice_deflactado'))\n",
    "#plt.fill_between('Indice_variabiliad',0,'Indice_deflactado_variabilidad')"
   ]
  },
  {
   "cell_type": "markdown",
   "metadata": {},
   "source": [
    "Como vemos en la gráfica el índice ajustado a la inflación o deflactado ha estado siempre por encima del Indice a precios normales. Esto indica que en el periodo de análisis 2012-2017 la bolsa ha tenido un rendimiento superior a la inflación, incluso entre 2013 y 2015 donde ambos índices tuvieron valores más cercanos.\n",
    "\n",
    "Podemos intuir que con un mínimo de conocimientos, invertir en el S&P parece rentable a largo plazo. \n",
    "\n",
    "Vamos a plantear un __contraste de hipótesis.__ Si las medias son estadísticamente diferentes, podemos asumir que los valores superiores del Indice sobre el deflactado no se dan por casualidad.  \n",
    "\n",
    "1. __Ho.__ Las medias de los índices son diferentes.\n",
    "2. __H1.__ Las medias de los índices son iguales.\n",
    "\n",
    "\n",
    "- si __p ≤ α, aceptar H1__\n",
    "\n",
    "- si __p > α, aceptar H0__\n",
    "\n",
    "__α = 5%__\n"
   ]
  },
  {
   "cell_type": "code",
   "execution_count": null,
   "metadata": {},
   "outputs": [],
   "source": [
    "from scipy import stats\n",
    "from sklearn import preprocessing\n",
    "\n",
    "print('======== MEDIAS DE LAS SERIES ========')\n",
    "print(round(datos_Ho.Close.mean(),3))\n",
    "print(round(datos_Ho.Indice_deflactado.mean(),3))\n",
    "\n",
    "min_max_scaler = preprocessing.MinMaxScaler() #df_norm = (df - df.mean()) / (df.max() - df.min())\n",
    "np_scaled = min_max_scaler.fit_transform(datos_Ho[['Close','Indice_deflactado']])\n",
    "df_normalized = pd.DataFrame(np_scaled, columns =['IndiceSP', 'Indice_deflactado'])\n",
    "print('======== DATOS NORMALIZADOS ========')\n",
    "print(df_normalized)\n",
    "\n",
    "#T-TEST para 2 poblaciones con datos relacionados. En este caso el índice deflactado se construye \n",
    "#a partir de los de Indice en Close.\n",
    "\n",
    "Indice=df_normalized.IndiceSP\n",
    "Indice_deflactado=df_normalized.Indice_deflactado\n",
    "\n",
    "print('=========== T-TEST para datos poblaciones relacionados =========')\n",
    "print(stats.ttest_rel(df_normalized.IndiceSP,\n",
    "                df_normalized.Indice_deflactado))\n",
    "\n",
    "dfcalc = len(df_normalized.IndiceSP) + len(df_normalized.Indice_deflactado) - 2 #grados de libertad\n",
    "print('Grados de libertad del test %s: ',dfcalc) "
   ]
  },
  {
   "cell_type": "markdown",
   "metadata": {},
   "source": [
    "__INTERPRETACIÓN DE RESULTADOS:__\n",
    "\n",
    "En teoría:\n",
    "\n",
    "1. p-value > 0.05 o 0.1. Ho no se puede rechazar. Las medias son diferentes.\n",
    "2. p-value < 0.05 o 0.1, ej: 1%, 5% o 10%, entonces rechazamos Ho, aceptando H1. Las medias son iguales. \n",
    "\n",
    "Esto es así porque valores pequeños de p están asociados a valores altos en t-student. Hay una correlación inversa entre ambos.\n",
    "\n",
    "El __p-value obtenido es de 0.11 > 0.05 (α = 5%)__.  Por lo tanto aceptamos Ho.\n",
    "\n",
    "Podemos afirmar que a largo plazo el Indice S&P genera ganancias reales, por encima de la inflación. "
   ]
  },
  {
   "cell_type": "code",
   "execution_count": null,
   "metadata": {
    "collapsed": true
   },
   "outputs": [],
   "source": []
  },
  {
   "cell_type": "code",
   "execution_count": null,
   "metadata": {
    "collapsed": true
   },
   "outputs": [],
   "source": []
  },
  {
   "cell_type": "code",
   "execution_count": null,
   "metadata": {
    "collapsed": true
   },
   "outputs": [],
   "source": []
  }
 ],
 "metadata": {
  "kernelspec": {
   "display_name": "Python 3",
   "language": "python",
   "name": "python3"
  },
  "language_info": {
   "codemirror_mode": {
    "name": "ipython",
    "version": 3
   },
   "file_extension": ".py",
   "mimetype": "text/x-python",
   "name": "python",
   "nbconvert_exporter": "python",
   "pygments_lexer": "ipython3",
   "version": "3.6.4"
  }
 },
 "nbformat": 4,
 "nbformat_minor": 2
}
