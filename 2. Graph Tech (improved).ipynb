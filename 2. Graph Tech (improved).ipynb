{
 "cells": [
  {
   "cell_type": "markdown",
   "metadata": {},
   "source": [
    "Script 1"
   ]
  },
  {
   "cell_type": "code",
   "execution_count": 2,
   "metadata": {
    "scrolled": false
   },
   "outputs": [
    {
     "name": "stdout",
     "output_type": "stream",
     "text": [
      "current working Dir :  C:\\Users\\Dante\\Desktop\n",
      "C:\\Users\\Dante\\Desktop\\\\all_stocks_5yr.csv\n",
      "Dropping Duplicates..... \n",
      "            Date   Open   High    Low  Close     Volume  Name\n",
      "0     2012-08-13  92.29  92.59  91.74  92.40  2075391.0   MMM\n",
      "1258  2012-08-13  32.93  33.02  32.84  33.00  5290056.0   ABT\n",
      "2516  2012-12-10  37.00  37.00  34.91  35.00   749378.0  ABBV\n",
      "3693  2012-08-13  61.27  61.55  60.94  61.50  1436939.0   ACN\n",
      "4951  2012-08-13  11.59  11.60  11.34  11.52  5846685.0  ATVI\n",
      "After adding a column\n",
      "            Date   Open   High    Low  Close     Volume  Name Sector\n",
      "0     2012-08-13  92.29  92.59  91.74  92.40  2075391.0   MMM    MMM\n",
      "1258  2012-08-13  32.93  33.02  32.84  33.00  5290056.0   ABT    ABT\n",
      "2516  2012-12-10  37.00  37.00  34.91  35.00   749378.0  ABBV   ABBV\n",
      "3693  2012-08-13  61.27  61.55  60.94  61.50  1436939.0   ACN    ACN\n",
      "4951  2012-08-13  11.59  11.60  11.34  11.52  5846685.0  ATVI   ATVI\n",
      "\n",
      "\n",
      "\n",
      "Dropping Duplicates..... \n",
      "length of rows :  503\n",
      "length of rows :  503\n",
      "0    Industrials\n",
      "1    Health Care\n",
      "Name: Sector, dtype: object\n"
     ]
    },
    {
     "name": "stderr",
     "output_type": "stream",
     "text": [
      "  0%|                                                                                          | 0/503 [00:00<?, ?it/s]C:\\Users\\Dante\\AppData\\Local\\conda\\conda\\envs\\pyth27\\lib\\site-packages\\ipykernel_launcher.py:45: SettingWithCopyWarning: \n",
      "A value is trying to be set on a copy of a slice from a DataFrame\n",
      "\n",
      "See the caveats in the documentation: http://pandas.pydata.org/pandas-docs/stable/indexing.html#indexing-view-versus-copy\n",
      "100%|████████████████████████████████████████████████████████████████████████████████| 503/503 [00:57<00:00,  8.72it/s]\n"
     ]
    },
    {
     "name": "stdout",
     "output_type": "stream",
     "text": [
      "0       0\n",
      "1    1258\n",
      "2    2516\n",
      "3    3693\n",
      "4    4951\n",
      "Name: Unnamed: 0, dtype: int64\n",
      "    Unnamed: 0        Date    Open    High     Low   Close      Volume  Name  \\\n",
      "0            0  2012-08-13   92.29   92.59   91.74   92.40   2075391.0   MMM   \n",
      "1         1258  2012-08-13   32.93   33.02   32.84   33.00   5290056.0   ABT   \n",
      "2         2516  2012-12-10   37.00   37.00   34.91   35.00    749378.0  ABBV   \n",
      "3         3693  2012-08-13   61.27   61.55   60.94   61.50   1436939.0   ACN   \n",
      "4         4951  2012-08-13   11.59   11.60   11.34   11.52   5846685.0  ATVI   \n",
      "5         6209  2012-08-13   63.10   63.50   62.38   63.19    142485.0   AYI   \n",
      "6         7467  2012-08-13   32.48   32.55   32.09   32.27   2433874.0  ADBE   \n",
      "7         8725  2012-08-13    4.31    4.32    4.21    4.26  12809312.0   AMD   \n",
      "8         9982  2012-08-13   68.51   69.32   68.51   69.11   1063515.0   AAP   \n",
      "9        11240  2012-08-13   11.73   11.88   11.71   11.86   4196810.0   AES   \n",
      "10       12498  2012-08-13   37.59   37.70   37.29   37.48   1982302.0   AET   \n",
      "11       13756  2012-08-13  114.99  115.71  114.19  115.62    211687.0   AMG   \n",
      "12       15014  2012-08-13   45.63   45.76   45.23   45.56   1977122.0   AFL   \n",
      "13       16272  2012-08-13   40.27   40.70   40.15   40.38   1860798.0     A   \n",
      "14       17530  2012-08-13   83.58   83.75   83.03   83.63    386223.0   APD   \n",
      "15       18788  2012-08-13   35.85   35.93   35.46   35.74   1750483.0  AKAM   \n",
      "16       20046  2012-08-13   17.02   17.16   16.86   17.05   1048102.0   ALK   \n",
      "17       21304  2012-08-13   60.50   61.09   60.31   61.07    462582.0   ALB   \n",
      "18       22562  2012-08-13   73.51   74.14   72.97   74.10    342117.0   ARE   \n",
      "19       23820  2012-08-13  103.54  104.03  102.25  103.68    500116.0  ALXN   \n",
      "\n",
      "                    Sector  \n",
      "0              Industrials  \n",
      "1              Health Care  \n",
      "2              Health Care  \n",
      "3   Information Technology  \n",
      "4   Information Technology  \n",
      "5              Industrials  \n",
      "6   Information Technology  \n",
      "7                      AMD  \n",
      "8   Consumer Discretionary  \n",
      "9                Utilities  \n",
      "10             Health Care  \n",
      "11              Financials  \n",
      "12              Financials  \n",
      "13             Health Care  \n",
      "14               Materials  \n",
      "15  Information Technology  \n",
      "16             Industrials  \n",
      "17               Materials  \n",
      "18                     ARE  \n",
      "19             Health Care  \n",
      "Process Completed!! \n"
     ]
    }
   ],
   "source": [
    "# PRUEBA PARA ABRIR EL FICHERO DESDE LA CARPETA DESCARGAS, ESTA COMPRIMIDO AL DESCARGARLO. --> FUNCIONA\n",
    "import pandas as pd\n",
    "import os\n",
    "from tqdm import tqdm\n",
    "\n",
    "pwd = os.getcwd()\n",
    "print \"current working Dir : \",pwd\n",
    "path = pwd+r'\\\\all_stocks_5yr.csv'\n",
    "print path\n",
    "path = r'F:\\System Dialog\\API\\Fiverr\\tania\\all_stocks_5yr.csv'\n",
    "sp500 = pd.read_csv(path , delimiter=',',decimal='.', header=0)\n",
    "#print(sp500.Name)\n",
    "sp = pd.DataFrame(sp500)\n",
    "print \"Dropping Duplicates..... \"\n",
    "sp = sp.drop_duplicates(['Name'])\n",
    "print(sp.head(5))\n",
    "\n",
    "sp['Sector'] = sp.Name\n",
    "print \"After adding a column\"\n",
    "print(sp.head(5))\n",
    "print \"\\n\\n\"\n",
    "print \"Dropping Duplicates..... \"\n",
    "sp.drop_duplicates(['Name'])\n",
    "#print(sp.Name.unique())\n",
    "name = sp.Name.unique()\n",
    "print \"length of rows : \",len(sp.Low)\n",
    "sp.to_csv('New.csv')\n",
    "\n",
    "path = r'F:\\System Dialog\\API\\Fiverr\\tania\\New.csv'\n",
    "sp500 = pd.read_csv(path , delimiter=',',decimal='.', header=0)\n",
    "\n",
    "sp = pd.DataFrame(sp500)\n",
    "print \"length of rows : \",len(sp.Low)\n",
    "\n",
    "path1 = r'F:\\System Dialog\\API\\Fiverr\\tania\\constituents-financials.csv'\n",
    "consti = pd.read_csv(path1)\n",
    "cn = pd.DataFrame(consti)\n",
    "print cn.Sector.head(2)\n",
    "\n",
    "for i in tqdm(range(len(sp.Name))):\n",
    "    #print i\n",
    "    for k in range(len(cn.Symbol)):\n",
    "        if cn.Symbol[k] == sp.Name[i]:\n",
    "            #print cn.Symbol[k],' : : ',cn.Sector[k]\n",
    "            sp['Sector'][i] = cn.Sector[k]\n",
    "\n",
    "print(sp['Unnamed: 0'].head(5))\n",
    "print(sp.head(20))\n",
    "file_name = 'tania.csv'\n",
    "print \"Process Completed!! \"\n",
    "sp.to_csv(file_name)\n"
   ]
  },
  {
   "cell_type": "markdown",
   "metadata": {},
   "source": [
    "Script 2 :"
   ]
  },
  {
   "cell_type": "code",
   "execution_count": 1,
   "metadata": {
    "scrolled": false
   },
   "outputs": [
    {
     "name": "stdout",
     "output_type": "stream",
     "text": [
      "         Date   Open   High    Low  Close     Volume  Name       Sector\n",
      "0  2012-08-13  92.29  92.59  91.74   92.4  2075391.0   MMM  Industrials\n",
      "1  2012-08-13  32.93  33.02  32.84   33.0  5290056.0   ABT  Health Care\n",
      "2  2012-12-10  37.00  37.00  34.91   35.0   749378.0  ABBV  Health Care\n",
      "['Industrials' 'Health Care' 'Information Technology' 'AMD'\n",
      " 'Consumer Discretionary' 'Utilities' 'Financials' 'Materials' 'ARE' 'ALGN'\n",
      " 'Consumer Staples' 'Energy' 'ANDV' 'ANSS' 'AOS' 'Real Estate'\n",
      " 'Telecommunications Services' 'BHGE' 'BHF' 'DISH' 'DRE' 'DXC' 'RE' 'IT'\n",
      " 'HLT' 'INFO' 'NYSE:LMT' 'MGM' 'NYSE:NWL' 'NYSE:NBL' 'PKG' 'RJF' 'RMD'\n",
      " 'SNPS']\n"
     ]
    },
    {
     "data": {
      "image/png": "[encoded data removed]",
      "text/plain": [
       "<matplotlib.figure.Figure at 0xec8f8d0>"
      ]
     },
     "metadata": {},
     "output_type": "display_data"
    }
   ],
   "source": [
    "import numpy as np\n",
    "import pandas as pd\n",
    "from numpy.random import randn\n",
    "from scipy import stats\n",
    "import matplotlib as mpl\n",
    "import matplotlib.pyplot as plt\n",
    "import seaborn as sns\n",
    "from pandas.tools.plotting import radviz\n",
    "\n",
    "%matplotlib inline\n",
    "path = r'F:\\System Dialog\\API\\Fiverr\\tania\\tania1.csv'\n",
    "data = pd.read_csv(path)\n",
    "del data['Unnamed: 0']\n",
    "print data.head(3)\n",
    "sectors = data['Sector'].unique()\n",
    "print sectors\n",
    "#data['Close'].plot()\n",
    "\n",
    "#plt.hist(data['Close'])\n",
    "\n",
    "#radviz(data, 'Close')\n",
    "\n",
    "#sns.jointplot(data['High'],data['Low'])\n",
    "for sector in data['Sector'].unique():\n",
    "    if sector == \"Information Technology\":\n",
    "        sec = data.loc[data['Sector'] == sector]\n",
    "        sns.kdeplot(sec['Close'], cbar=True, shade=True)\n",
    "        plt.suptitle('Sector Data Graph')\n",
    "    "
   ]
  }
 ],
 "metadata": {
  "kernelspec": {
   "display_name": "Python 3",
   "language": "python",
   "name": "python3"
  },
  "language_info": {
   "codemirror_mode": {
    "name": "ipython",
    "version": 3
   },
   "file_extension": ".py",
   "mimetype": "text/x-python",
   "name": "python",
   "nbconvert_exporter": "python",
   "pygments_lexer": "ipython3",
   "version": "3.6.4"
  }
 },
 "nbformat": 4,
 "nbformat_minor": 2
}
